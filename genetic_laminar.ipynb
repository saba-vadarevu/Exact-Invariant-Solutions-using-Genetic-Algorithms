{
 "cells": [
  {
   "cell_type": "code",
   "execution_count": 1,
   "metadata": {},
   "outputs": [],
   "source": [
    "%load_ext autoreload\n",
    "%autoreload 2"
   ]
  },
  {
   "cell_type": "code",
   "execution_count": 2,
   "metadata": {},
   "outputs": [],
   "source": [
    "import numpy as np\n",
    "import scipy as sp\n",
    "import matplotlib.pyplot as plt\n",
    "from lib import pseudo \n",
    "from scipy.optimize import minimize\n",
    "import warnings\n",
    "from warnings import warn\n",
    "warnings.filterwarnings('error', category=UnicodeWarning)\n",
    "import time \n",
    "import sys\n",
    "import h5py\n",
    "from itertools import combinations\n",
    "\n",
    "%matplotlib inline"
   ]
  },
  {
   "cell_type": "markdown",
   "metadata": {},
   "source": []
  },
  {
   "cell_type": "markdown",
   "metadata": {},
   "source": [
    "# Genetic algorithms\n",
    "\n",
    "Genetic algorithms have 3 key features:\n",
    "1. Heredity: Best solutions from previous generations must propagate to the next generation\n",
    "2. Variation: Offspring from previous generations must mutate\n",
    "3. Survival: Only a subset of the current generation must be picked for procreation\n",
    "\n",
    "I have to express these 3 features mathematically. There are two others that go with it. \n",
    "\n",
    "Initial population. In the current case, this would be a set of zeros for the flat walled case\n",
    "\n",
    "Fitness function. In this case, this is the above NSE. "
   ]
  },
  {
   "cell_type": "markdown",
   "metadata": {},
   "source": [
    "## Heredity\n",
    "I should take two potential solutions from the previous generations and somehow merge them. I want to keep each Fourier mode intact, so I don't have to repeatedly look for divergence free basis. I can think of two rules. \n",
    "\n",
    "1. For each Fourier mode, pick coefficients from one of the parents randomly. \n",
    "2. Each offspring has exactly half of the Fourier modes from each parent.\n",
    "\n",
    "How many such offsprings? That will be a hyperparameter."
   ]
  },
  {
   "cell_type": "code",
   "execution_count": 3,
   "metadata": {},
   "outputs": [],
   "source": [
    "def crossInd(nz, heredity='half'):\n",
    "    \"\"\"\n",
    "    Returns an array of 0s and 1s of size nz, each referring to one parent.\n",
    "    nz is the total number of Fourier modes.\n",
    "    heredity='half' means that exactly half of the Fourier modes come from each parent.\n",
    "    heredity='random' assigns parent randomly without worrying about number of modes from each.\"\"\"\n",
    "    assert nz%2 == 0\n",
    "    M = nz//2\n",
    "    np.random.seed()\n",
    "    if heredity == 'half':\n",
    "        indList = np.concatenate((np.zeros(M), np.ones(M)))\n",
    "        np.random.shuffle(indList)\n",
    "    if heredity == 'random':\n",
    "        indList = np.random.randint(2, size=nz)\n",
    "    \n",
    "    return indList\n",
    "        \n",
    "def crossover_single(parent0, parent1, heredity='half'):\n",
    "    \"\"\" Returns a single offspring\"\"\"\n",
    "    assert parent0.shape == parent1.shape\n",
    "    nz = parent0.shape[0]\n",
    "    indList = crossInd(nz, heredity=heredity)\n",
    "    offspring = np.copy(parent0)\n",
    "    for lz in range(nz):\n",
    "        if indList[lz] == 1:\n",
    "            offspring[lz] = parent1[lz]\n",
    "    \n",
    "    # Impose real-valuedness\n",
    "    for lz in range(1,nz//2):\n",
    "        offspring[lz] = ( offspring[lz] + np.conj(offspring[-lz]) )/2.\n",
    "        offspring[-lz] = np.conj(offspring[lz])\n",
    "    offspring[nz//2] = np.real(offspring[nz//2]) \n",
    "    warn(\"Because I'm imposing real-valuedness, there's a bit of merging amongst modes\")\n",
    "    \n",
    "    return offspring\n",
    "\n",
    "def crossover_multiple(parent0, parent1, heredity='half', num_off=4):\n",
    "    offspringList = []\n",
    "    for num in range(num_off):\n",
    "        offspringList.append(crossover_single(parent0, parent1, heredity=heredity))\n",
    "    \n",
    "    return offspringList\n",
    "\n",
    "def propagate(parentList,heredity='half', num_off=4):\n",
    "    indList = np.arange(len(parentList))\n",
    "    offspringList = []\n",
    "    # Use itertools.combinations to create combinations of pairs from parentList\n",
    "    for indPair in combinations(indList, 2):\n",
    "        parent0 = parentList[indPair[0]]\n",
    "        parent1 = parentList[indPair[1]]\n",
    "        offspringList.extend(crossover_multiple(parent0,parent1, \n",
    "                            heredity=heredity, num_off=num_off))\n",
    "    return offspringList"
   ]
  },
  {
   "cell_type": "code",
   "execution_count": 4,
   "metadata": {},
   "outputs": [
    {
     "name": "stdout",
     "output_type": "stream",
     "text": [
      "[0. 6. 0. 6. 0. 6.]\n",
      "[4. 3. 2. 2. 2. 3.]\n",
      "[0. 6. 0. 2. 0. 6.]\n",
      "[0. 3. 4. 2. 4. 3.]\n",
      "[4. 3. 2. 2. 2. 3.]\n",
      "[4. 6. 4. 6. 4. 6.]\n",
      "[4. 3. 2. 2. 2. 3.]\n",
      "[4. 6. 2. 2. 2. 6.]\n",
      "\n",
      "\n",
      "[0. 3. 2. 6. 2. 3.]\n",
      "[ 0.  8. 14.  2. 14.  8.]\n",
      "[ 0. 26. 12.  2. 12. 26.]\n",
      "[14. 11.  9.  6.  9. 11.]\n",
      "[ 4. 26. 14.  6. 14. 26.]\n",
      "[14. 21. 19. 26. 19. 21.]\n"
     ]
    },
    {
     "name": "stderr",
     "output_type": "stream",
     "text": [
      "C:\\Users\\Sabarish\\Anaconda3\\lib\\site-packages\\ipykernel_launcher.py:33: UserWarning: Because I'm imposing real-valuedness, there's a bit of merging amongst modes\n"
     ]
    }
   ],
   "source": [
    "parent0 = np.array([0,0,0,2,0,0]).reshape((6,1)).astype(np.float)\n",
    "parent1 = np.array([4,6,4,6,4,6]).reshape((6,1)).astype(np.float)\n",
    "parent2 = np.array([14,16,14,16,14,16]).reshape((6,1)).astype(np.float)\n",
    "parent3 = np.array([24,26,24,26,24,26]).reshape((6,1)).astype(np.float)\n",
    "\n",
    "\n",
    "\n",
    "print(crossover_single(parent0, parent1,heredity='random').flatten())\n",
    "print(crossover_single(parent0, parent1,heredity='random').flatten())\n",
    "print(crossover_single(parent0, parent1,heredity='random').flatten())\n",
    "print(crossover_single(parent0, parent1,heredity='random').flatten())\n",
    "print(crossover_single(parent0, parent1,heredity='random').flatten())\n",
    "print(crossover_single(parent0, parent1,heredity='random').flatten())\n",
    "print(crossover_single(parent0, parent1,heredity='random').flatten())\n",
    "print(crossover_single(parent0, parent1,heredity='random').flatten())\n",
    "\n",
    "print(); print()\n",
    "offList = propagate([parent0,parent1,parent2,parent3], num_off=1)\n",
    "for offspring in offList:\n",
    "    print(offspring.flatten())"
   ]
  },
  {
   "cell_type": "markdown",
   "metadata": {},
   "source": [
    "## Variation\n",
    "This bit is going to be challenging. Coming up with random mutations isn't a problem. The problem is finding the right magnitude for these mutations. I'll use line search combined with a binary search. Set initial magnitude of mutations to the magnitude of the energy of the Fourier mode. Then, do binary search between, say, -5 and +10 times this magnitude for 10 steps. \n",
    "\n",
    "The number of variations per offspring with the same heredity will be a hyperparameter. "
   ]
  },
  {
   "cell_type": "code",
   "execution_count": 44,
   "metadata": {},
   "outputs": [],
   "source": [
    "norm = np.linalg.norm\n",
    "\n",
    "# Keep mutations on the same scale as the norm of each Fourier mode (times relaxation factor 'relax')\n",
    "def mutate_single(oldOffspring, relax=1.):\n",
    "    offspring = np.copy(oldOffspring)\n",
    "    np.random.seed()\n",
    "    nz,N = offspring.shape\n",
    "    for lz in range(nz//2+1):\n",
    "        offspring[lz] += (np.random.randn(N) )*(1.e-9 + norm(offspring[lz])) * relax\n",
    "        # Adding -0.5 keeps random in [-0.5, 0.5]\n",
    "        # Multiplying with norm scales to original\n",
    "        offspring[-lz] = np.conj(offspring[lz])\n",
    "    \n",
    "    offspring[nz//2] = np.real(offspring[nz//2])\n",
    "    return offspring\n",
    "\n",
    "def mutate_multiple(offspring, num_mut=4,relax=1.):\n",
    "    offspringList = []\n",
    "    for num in range(num_mut):\n",
    "        offspringList.append(mutate_single(offspring, relax=relax))\n",
    "    \n",
    "    return offspringList\n",
    "\n",
    "def mutate(offspringList, num_mut=1,relax=1.):\n",
    "    nextgenList = []\n",
    "    for offspring in offspringList:\n",
    "        nextgenList.extend(mutate_multiple(offspring, num_mut=num_mut, relax=relax))\n",
    "    return nextgenList"
   ]
  },
  {
   "cell_type": "code",
   "execution_count": 45,
   "metadata": {},
   "outputs": [
    {
     "name": "stdout",
     "output_type": "stream",
     "text": [
      "[4. 3. 2. 2. 2. 3.]\n",
      "[9.206 6.278 1.588 3.938 1.588 6.278]\n",
      "[ 8.682 -4.702  6.935  0.745  6.935 -4.702]\n",
      "[ 4.138 10.383  3.092  1.771  3.092 10.383]\n",
      "[2.638 5.365 2.414 0.473 2.414 5.365]\n",
      "[3.96  3.107 1.795 2.273 1.795 3.107]\n"
     ]
    },
    {
     "name": "stderr",
     "output_type": "stream",
     "text": [
      "C:\\Users\\Sabarish\\Anaconda3\\lib\\site-packages\\ipykernel_launcher.py:33: UserWarning: Because I'm imposing real-valuedness, there's a bit of merging amongst modes\n"
     ]
    }
   ],
   "source": [
    "parent0 = np.array([0,0,0,2,0,0]).reshape((6,1)).astype(np.float)\n",
    "parent1 = np.array([4,6,4,6,4,6]).reshape((6,1)).astype(np.float)\n",
    "offspring01 = crossover_single(parent0, parent1,heredity='random')\n",
    "print(offspring01.flatten())\n",
    "\n",
    "print(mutate_single(offspring01,relax=2.).flatten())\n",
    "print(mutate_single(offspring01,relax=2.).flatten())\n",
    "print(mutate_single(offspring01,relax=1.).flatten())\n",
    "print(mutate_single(offspring01,relax=0.5).flatten())\n",
    "print(mutate_single(offspring01,relax=0.1).flatten())"
   ]
  },
  {
   "cell_type": "markdown",
   "metadata": {},
   "source": [
    "## Selection\n",
    "This bit is easy. Just pick the 'n' best performers. 'n' is a hyperparameter. "
   ]
  },
  {
   "cell_type": "code",
   "execution_count": 46,
   "metadata": {},
   "outputs": [],
   "source": [
    "def select(offspringList, selFun, num_next=4):\n",
    "    if num_next >= len(offspringList):\n",
    "        num_next = len(offspringList)//2\n",
    "    \n",
    "    residualList = []\n",
    "    for offspring in offspringList:\n",
    "        residualList.append(selFun(offspring))\n",
    "    \n",
    "    indList = np.argsort(residualList)\n",
    "    surviveList = []\n",
    "    for ind in indList[:num_next]:\n",
    "        surviveList.append(offspringList[ind])\n",
    "    \n",
    "    return surviveList"
   ]
  },
  {
   "cell_type": "code",
   "execution_count": 47,
   "metadata": {},
   "outputs": [
    {
     "name": "stdout",
     "output_type": "stream",
     "text": [
      "[0. 0. 0. 0. 0. 0. 0. 0.] 1.6903085094570331\n",
      "[1. 1. 1. 1. 1. 1. 1. 1.] 1.6903085094570331\n",
      "[0.01  0.153 0.296 0.439 0.581 0.724 0.867 1.01 ] 0.028284271247461922\n"
     ]
    }
   ],
   "source": [
    "soln = np.linspace(0., 1., 8).reshape((4,2))\n",
    "selFun = lambda candidate: norm(candidate-soln)\n",
    "\n",
    "parent0 = np.zeros(soln.shape)\n",
    "parent1 = np.ones(soln.shape)\n",
    "parent2 = soln + 0.01*np.ones(soln.shape)\n",
    "\n",
    "print(parent0.flatten(), selFun(parent0))\n",
    "print(parent1.flatten(), selFun(parent1))\n",
    "print(parent2.flatten(), selFun(parent2))"
   ]
  },
  {
   "cell_type": "code",
   "execution_count": 48,
   "metadata": {},
   "outputs": [],
   "source": [
    "def repeatIndices(costArr, genx2):\n",
    "    # Find repeating members\n",
    "    index_sets = [np.argwhere(i==costArr) for i in np.unique(costArr)] \n",
    "    # List of arrays; each array is an index for members with same cost\n",
    "    new_index_sets = [np.argwhere(i[0]== costArr) for i in np.array(np.unique(costArr, return_counts=True)).T if i[1]>=2] \n",
    "    # Same as above, but arrays with single index dropped\n",
    "    \n",
    "    dropList = []\n",
    "    for indArr in new_index_sets:\n",
    "        #indArr contains 2 or more indices that could be due to the same member\n",
    "        ind0 = indArr[0]\n",
    "        for ind1 in indArr[1:]:\n",
    "            if np.allclose(genx2[ind0[0]], genx2[ind1[0]]):\n",
    "                dropList.append(ind1[0])\n",
    "    dropList = np.sort(np.array(dropList))[::-1] \n",
    "    #sort in descending order so deleting later elements doesn't mess with previous ones\n",
    "    return dropList\n"
   ]
  },
  {
   "cell_type": "code",
   "execution_count": 49,
   "metadata": {
    "scrolled": true
   },
   "outputs": [
    {
     "name": "stdout",
     "output_type": "stream",
     "text": [
      "[0.    0.143 0.286 0.429 0.571 0.714 0.857 1.   ]\n"
     ]
    },
    {
     "name": "stderr",
     "output_type": "stream",
     "text": [
      "C:\\Users\\Sabarish\\Anaconda3\\lib\\site-packages\\ipykernel_launcher.py:33: UserWarning: Because I'm imposing real-valuedness, there's a bit of merging amongst modes\n"
     ]
    },
    {
     "name": "stdout",
     "output_type": "stream",
     "text": [
      "\n",
      "101 [0.583 0.583 0.584 0.584 0.588 0.593 0.599 0.601 0.601 0.601]\n",
      "[-0.009  0.118  0.549  0.764  0.511  0.665  0.549  0.764]\n",
      "[-0.04   0.182  0.528  0.74   0.634  0.69   0.528  0.74 ]\n",
      "[0.025 0.181 0.633 0.693 0.565 0.775 0.633 0.693]\n",
      "[0.068 0.112 0.507 0.678 0.547 0.759 0.507 0.678]\n",
      "[0.098 0.216 0.499 0.67  0.591 0.669 0.499 0.67 ]\n",
      "[0.051 0.187 0.526 0.647 0.45  0.672 0.526 0.647]\n",
      "[-0.008  0.061  0.458  0.686  0.581  0.733  0.458  0.686]\n",
      "\n",
      "201 [0.574 0.581 0.581 0.587 0.59  0.591 0.592 0.593 0.596 0.596]\n",
      "[-0.034  0.13   0.56   0.723  0.556  0.692  0.56   0.723]\n",
      "[-0.01   0.195  0.565  0.704  0.631  0.645  0.565  0.704]\n",
      "[-0.038  0.151  0.642  0.729  0.471  0.733  0.642  0.729]\n",
      "[-0.02   0.096  0.646  0.682  0.556  0.625  0.646  0.682]\n",
      "[-0.048  0.102  0.541  0.794  0.472  0.72   0.541  0.794]\n",
      "[-0.018  0.147  0.623  0.789  0.571  0.825  0.623  0.789]\n",
      "\n",
      "301 [0.586 0.591 0.591 0.592 0.593 0.593 0.594 0.596 0.598 0.6  ]\n",
      "[0.062 0.019 0.579 0.73  0.621 0.704 0.579 0.73 ]\n",
      "[0.012 0.253 0.566 0.634 0.564 0.712 0.566 0.634]\n",
      "\n",
      "401 [0.579 0.583 0.586 0.587 0.588 0.591 0.591 0.591 0.591 0.592]\n",
      "[-0.046  0.094  0.554  0.716  0.595  0.766  0.554  0.716]\n",
      "[-0.092  0.09   0.535  0.729  0.598  0.664  0.535  0.729]\n",
      "[-0.039  0.074  0.561  0.713  0.459  0.786  0.561  0.713]\n",
      "\n",
      "501 [0.585 0.586 0.591 0.592 0.592 0.594 0.595 0.597 0.6   0.601]\n",
      "[-0.008  0.137  0.525  0.647  0.62   0.732  0.525  0.647]\n",
      "[0.009 0.104 0.597 0.645 0.487 0.63  0.597 0.645]\n",
      "[-0.096  0.221  0.609  0.789  0.58   0.746  0.609  0.789]\n",
      "\n",
      "601 [0.578 0.582 0.587 0.587 0.593 0.594 0.594 0.594 0.596 0.596]\n",
      "[0.019 0.115 0.527 0.746 0.658 0.773 0.527 0.746]\n",
      "[0.032 0.053 0.611 0.791 0.597 0.744 0.611 0.791]\n",
      "[0.125 0.051 0.736 0.177 0.516 0.822 0.9   0.787]\n",
      "\n",
      "701 [0.568 0.583 0.584 0.585 0.585 0.586 0.587 0.588 0.589 0.594]\n",
      "[0.043 0.191 0.596 0.725 0.59  0.62  0.596 0.725]\n",
      "\n",
      "801 [0.578 0.578 0.583 0.587 0.588 0.589 0.59  0.592 0.594 0.596]\n",
      "[0.084 0.184 0.512 0.692 0.576 0.629 0.512 0.692]\n",
      "[0.016 0.132 0.578 0.628 0.663 0.647 0.578 0.628]\n",
      "\n",
      "901 [0.583 0.584 0.584 0.589 0.589 0.59  0.592 0.593 0.593 0.593]\n",
      "[-0.065  0.175  0.61   0.743  0.511  0.724  0.61   0.743]\n",
      "[0.029 0.116 0.508 0.681 0.465 0.738 0.508 0.681]\n",
      "[0.059 0.194 0.539 0.799 0.554 0.756 0.539 0.799]\n",
      "\n",
      "End of iterations:\n",
      "1000 [0.585 0.59  0.598 0.603 0.605 0.607 0.608 0.609 0.611 0.612]\n",
      "[0.022 0.168 0.574 0.771 0.487 0.736 0.574 0.771]\n",
      "[0.049 0.015 0.57  0.727 0.544 0.676 0.57  0.727]\n",
      "[0.053 0.021 0.602 0.658 0.606 0.652 0.602 0.658]\n",
      "[0.117 0.159 0.568 0.7   0.477 0.597 0.568 0.7  ]\n",
      "[0.085 0.075 0.606 0.678 0.68  0.818 0.606 0.678]\n",
      "[0.032 0.186 0.615 0.766 0.409 0.652 0.615 0.766]\n",
      "[0.042 0.044 0.634 0.711 0.699 0.632 0.634 0.711]\n",
      "[0.05  0.068 0.618 0.648 0.429 0.656 0.618 0.648]\n",
      "[0.099 0.171 0.483 0.749 0.436 0.718 0.483 0.749]\n",
      "[0.11  0.095 0.657 0.772 0.524 0.813 0.657 0.772]\n"
     ]
    }
   ],
   "source": [
    "soln = np.linspace(0., 1., 8).reshape((4,2))\n",
    "num_off = 10  # Number of pre-mutation offspring\n",
    "num_mut = 2   # Branch into so many offspring from the pre-mutation number\n",
    "num_next = 10 # Keep at most so many members for next generation\n",
    "newMems = 5   # Introduce so many new members with random genetics\n",
    "newTime = 20  # Introduce new members in this interval\n",
    "heredity='half'\n",
    "selFun = lambda candidate: norm(candidate-soln)\n",
    "\n",
    "parentList = []\n",
    "for pnum in range(100):\n",
    "    parentList.append(np.random.rand(4,2))\n",
    "#parentList = [parent0,parent1]\n",
    "\n",
    "gen1 = parentList\n",
    "genx2 = gen1\n",
    "oldMems = genx2\n",
    "\n",
    "np.set_printoptions(precision=3) \n",
    "print(soln.flatten())\n",
    "costArr = np.array([selFun(mem) for mem in genx2])\n",
    "\n",
    "for genNum in range(1000):\n",
    "    if genNum%newTime == 0 :\n",
    "        # Introduce new members every 5 generations\n",
    "        for ind in range(newMems):\n",
    "            genx2.append(np.random.rand(4,2))\n",
    "    \n",
    "    if len(genx2) < num_next:\n",
    "        tmp = len(genx2)\n",
    "        for ind in range(num_next-tmp):\n",
    "            genx2.append(np.random.rand(4,2))\n",
    "        \n",
    "    genx0 = propagate(genx2,num_off=num_off,heredity=heredity)\n",
    "    genx1 = mutate(genx0, num_mut=num_mut, relax=0.5*np.average(costArr)**0.7)\n",
    "    \n",
    "    #genx1.extend(genx0)  # Include non-mutated offspring\n",
    "    genx1.extend(genx2)  # Include parents\n",
    "    \n",
    "        \n",
    "    genx2 = select(genx1, selFun, num_next=num_next)\n",
    "    costArr = np.array([selFun(mem) for mem in genx2])\n",
    "    \n",
    "    # Delete repeating members\n",
    "    ind = 0\n",
    "    while ind < len(genx2):\n",
    "        if ind >= len(genx2)-1: break\n",
    "        mem0 = genx2[ind]\n",
    "        for ind1 in np.arange(ind+1, len(genx2))[::-1]:\n",
    "            mem1 = genx2[ind1]\n",
    "            if np.allclose(mem0.flatten(),mem1.flatten()): \n",
    "                del genx2[ind1]\n",
    "        ind += 1    \n",
    "    \n",
    "    # If members live for more than 10 gens, kill them\n",
    "    if genNum > 1 and (genNum%5 == 0):\n",
    "        for ind in np.arange(len(genx2))[::-1]:\n",
    "            mem0 = genx2[ind]\n",
    "            for mem1 in oldMems:\n",
    "                if np.allclose(mem0.flatten(), mem1.flatten()):\n",
    "                    del genx2[ind]\n",
    "                    break\n",
    "    oldMems = np.copy(genx2)\n",
    "    \n",
    "    if (genNum % 100 == 0) and (genNum>0):\n",
    "        print()\n",
    "        print(genNum+1, costArr)\n",
    "        for mem in genx2:\n",
    "            print(mem.flatten())\n",
    "\n",
    "print();print(\"End of iterations:\")            \n",
    "print(genNum+1, costArr)\n",
    "for mem in genx2:\n",
    "    print(mem.flatten())            \n",
    "\n"
   ]
  },
  {
   "cell_type": "markdown",
   "metadata": {},
   "source": [
    "# An exceptionally simple evolutionaty algorithm"
   ]
  },
  {
   "cell_type": "code",
   "execution_count": 57,
   "metadata": {},
   "outputs": [
    {
     "name": "stdout",
     "output_type": "stream",
     "text": [
      "0 1.7311711615731873 [0.641 0.039 0.365 0.349 1.288 1.547 0.173 0.058]\n",
      "50 1.1320446023351267 [-0.421 -0.266 -0.248  0.604  0.434  0.268  0.567  1.565]\n",
      "100 0.41720050739400694 [0.054 0.27  0.259 0.655 0.729 0.59  0.674 1.171]\n",
      "150 0.18405896817538178 [-0.072  0.123  0.311  0.414  0.519  0.804  0.799  0.884]\n",
      "200 0.1477518915648664 [-0.081  0.082  0.322  0.377  0.597  0.724  0.868  0.919]\n",
      "250 0.12243598572431677 [0.09  0.154 0.339 0.482 0.563 0.682 0.849 0.998]\n",
      "300 0.05002482976776628 [0.027 0.129 0.315 0.453 0.574 0.711 0.861 0.991]\n",
      "350 0.031116354908113358 [-0.007  0.128  0.306  0.425  0.577  0.714  0.86   0.984]\n",
      "400 0.020176271174065414 [-0.004  0.139  0.292  0.432  0.563  0.716  0.866  0.987]\n",
      "450 0.006960904551888521 [-0.002  0.142  0.289  0.427  0.574  0.712  0.853  0.998]\n",
      "500 0.005718009904293208 [0.001 0.142 0.282 0.431 0.572 0.714 0.859 1.001]\n",
      "550 0.002994543085636116 [-1.999e-04  1.439e-01  2.863e-01  4.268e-01  5.706e-01  7.134e-01\n",
      "  8.561e-01  9.987e-01]\n",
      "\n",
      "Exiting...\n",
      "572 0.0009477830262356035\n",
      "[2.427e-04 1.432e-01 2.856e-01 4.283e-01 5.708e-01 7.145e-01 8.568e-01\n",
      " 9.997e-01]\n",
      "[0.    0.143 0.286 0.429 0.571 0.714 0.857 1.   ]\n"
     ]
    }
   ],
   "source": [
    "parent = np.random.rand(4,2)\n",
    "alpha = 2**(1./8.)\n",
    "iterMax = 1000\n",
    "iterPrint = 50\n",
    "std = 0.5\n",
    "\n",
    "for iternum in range(iterMax):\n",
    "    offspring = parent + np.random.normal(0., std, parent.shape)\n",
    "    costOff = selFun(offspring)\n",
    "    costPar = selFun(parent)\n",
    "    \n",
    "    if costOff <= costPar:\n",
    "        parent = offspring\n",
    "        std = std*alpha\n",
    "    else :\n",
    "        parent = parent\n",
    "        std = std* alpha**(-1./4.)\n",
    "    \n",
    "    if iternum%iterPrint == 0:\n",
    "        print(iternum, costOff, offspring.flatten())\n",
    "    \n",
    "    if min(costOff,costPar) < 1.e-3:\n",
    "        print(); print(\"Exiting...\")\n",
    "        print(iternum, min(costOff,costPar))\n",
    "        print(parent.flatten())\n",
    "        print(soln.flatten())\n",
    "        break"
   ]
  },
  {
   "cell_type": "markdown",
   "metadata": {},
   "source": [
    "# Longitudinal grooves, laminar\n",
    "\n",
    "The NSE reduce to \n",
    "$$ \\Delta u = 0 $$\n",
    "which can be written for each (spanwise) Fourier mode as\n",
    "$$ -\\epsilon^2 \\beta^2 u_{k-2}''  + (2k-1)\\epsilon \\beta^2 u_{k-1}'\n",
    "-k^2 \\beta^2 + (1+2\\epsilon^2 \\beta^2) u_k'' \n",
    "+ (-2k-1)\\epsilon \\beta^2 u_{k+1}'-\\epsilon^2 \\beta^2 u_{k+2}'' = 0 $$\n",
    "\n",
    "I need to solve this equation for a bunch of $k$. "
   ]
  },
  {
   "cell_type": "code",
   "execution_count": 184,
   "metadata": {},
   "outputs": [],
   "source": [
    "from lib.pseudo import chebnorm\n",
    "from lib.pseudo import chebdif\n",
    "\n",
    "N = 15\n",
    "M = 5\n",
    "norm = lambda arr: chebnorm(arr,N)\n",
    "y,DM = pseudo.chebdif(N,2)\n",
    "D1 = DM[:,:,0]\n",
    "D2 = DM[:,:,1]\n",
    "\n",
    "def residFun(state, eps, beta):\n",
    "    # State is ordered as (-M,-M+1,..,0,..,M)\n",
    "    g = eps*beta\n",
    "    assert state.size == (2*M+1)*N\n",
    "    state = state.reshape((-1,N))\n",
    "    assert norm(state - np.conj(state[::-1])) <= 1.e-9\n",
    "    statePad = np.zeros((2*M+5, N),dtype=np.complex)\n",
    "    statePad[2:-2] = state\n",
    "    cost = -2.\n",
    "    for kind in range(2, 2*M+3):\n",
    "        k = -M + kind - 2\n",
    "        cost += norm(\n",
    "            -g**2 * (D2@ (statePad[kind-2] + statePad[kind+2])  ) \n",
    "            +(2.*k-1)*eps*beta**2 * D1@statePad[kind-1] + (-2.*k-1.)*eps*beta**2 * D1@statePad[kind+1] \n",
    "            -k**2*beta**2 * statePad[kind] + (1. + 2.*g**2)* D2@statePad[kind]   )\n",
    "    return abs(cost)\n"
   ]
  },
  {
   "cell_type": "code",
   "execution_count": 185,
   "metadata": {},
   "outputs": [
    {
     "data": {
      "text/plain": [
       "0.062735026918963"
      ]
     },
     "execution_count": 185,
     "metadata": {},
     "output_type": "execute_result"
    }
   ],
   "source": [
    "eps = 0.025; beta = 1.; \n",
    "state = np.zeros((2*M+1,N),dtype=np.complex)\n",
    "state[M] = 1.-y**2\n",
    "residFun(state,eps,beta)"
   ]
  },
  {
   "cell_type": "markdown",
   "metadata": {},
   "source": [
    "## Scale mutations by Fourier mode\n",
    "It doesn't make sense to have similar distributions for mutations in different Fourier modes. We want the 0th and 1st modes to have a fair bit of energy, while later modes don't have as much. I'll model this using an array of scaling factors that is supplied to the problem, and made use of in the following function."
   ]
  },
  {
   "cell_type": "code",
   "execution_count": 186,
   "metadata": {},
   "outputs": [],
   "source": [
    "def getMutation(stdArr, M, y,m=None):\n",
    "    mutation = np.zeros((2*M+1, y.size), dtype=np.complex)\n",
    "    if m is None:\n",
    "        for lz in range(M,2*M+1):\n",
    "            mutation[lz] = (1.-y**2)*( \n",
    "                np.random.normal(0., stdArr[lz], (1,y.size) ) + \n",
    "                1.j* np.random.normal(0., stdArr[lz], (1,y.size) )    )\n",
    "    else :\n",
    "        mutation[M+abs(m)] = (1.-y**2)*( \n",
    "                np.random.normal(0., stdArr[M+abs(m)], (1,y.size) ) + \n",
    "                1.j* np.random.normal(0., stdArr[M+abs(m)], (1,y.size) )    )\n",
    "    \n",
    "    mutation[M-1::-1] = np.conj(mutation[M+1:])\n",
    "    mutation[M] = np.real(mutation[M])\n",
    "    \n",
    "    return mutation"
   ]
  },
  {
   "cell_type": "code",
   "execution_count": 237,
   "metadata": {},
   "outputs": [
    {
     "name": "stdout",
     "output_type": "stream",
     "text": [
      "alpha: 1.05\n",
      "0 0.0012865729142105486 5e-05 5.25e-05\n",
      "1 0.0012865729142105486 5e-05 5.186351873971139e-05\n",
      "2 0.0011925525403711237 5e-05 5.123475382979799e-05\n",
      "3 0.0011537689040443748 5e-05 5.3796491521287895e-05\n",
      "4 0.0010996718227991044 5e-05 5.6486316097352294e-05\n",
      "5 0.0010029077688005759 5e-05 5.5801506922900795e-05\n",
      "6 0.0009621312098404119 5e-05 5.5125000000000005e-05\n",
      "7 0.0009621312098404119 5e-05 5.4456694676696966e-05\n",
      "8 0.0009573031859442715 5e-05 5.7179529410531814e-05\n",
      "9 0.0009379291825378688 5e-05 6.003850588105841e-05\n",
      "10 0.0009379291825378688 5e-05 5.931063190221991e-05\n",
      "20 2.7724596058098923e-06 5e-05 5.93106319022199e-05\n",
      "30 2.7724596058098923e-06 5e-05 5.249999999999998e-05\n",
      "40 2.7724596058098923e-06 5e-05 4.647143204516821e-05\n",
      "50 2.7724596058098923e-06 5e-05 4.1135123739594056e-05\n",
      "60 2.7724596058098923e-06 4.9393827371153705e-05 3.641158300065011e-05\n",
      "70 1.4380396091023026e-07 4.9393827371153705e-05 3.4257284667515174e-05\n",
      "80 1.4380396091023026e-07 4.8795003647426656e-05 3.0323525266255517e-05\n",
      "90 1.4380396091023026e-07 4.8795003647426656e-05 2.684147892915686e-05\n",
      "100 1.4380396091023026e-07 4.820343973471615e-05 2.3759275505678632e-05\n",
      "200 8.192200539026376e-08 4.5351473922902475e-05 7.457398320764542e-06\n",
      "300 1.9272064203997995e-08 4.266824521857568e-05 2.340677000073085e-06\n",
      "400 1.334146357535274e-08 4.0143770258216786e-05 7.808763299503086e-07\n",
      "500 8.139073186849265e-11 3.7768656345935495e-05 2.605091786084211e-07\n",
      "600 8.139073186849265e-11 3.553406650650603e-05 7.692908249577383e-08\n",
      "700 8.139073186849265e-11 3.343168660604673e-05 2.2717371285167727e-08\n",
      "800 5.984008171519128e-11 3.145369441801111e-05 7.130372575279228e-09\n",
      "900 9.965486484522605e-12 2.9592730519395454e-05 2.105618784717658e-09\n",
      "1000 4.8533612025114525e-12 2.7841870908877913e-05 6.608971719516759e-10\n",
      "\n",
      "Exiting...\n",
      "1424 7.170913168819126e-15\n"
     ]
    }
   ],
   "source": [
    "eps = 0.1; beta = 0.01; \n",
    "g = eps*beta\n",
    "#parent = np.zeros((2*M+1, N), dtype=np.complex)\n",
    "#parent[M] = 1.-y**2\n",
    "    \n",
    "#alpha = 2**(1./parent.size/2.)\n",
    "alpha = 1.05\n",
    "print(\"alpha:\",alpha)\n",
    "iterMax = 10000\n",
    "iterPrint = 10\n",
    "tol = 1.e-14\n",
    "\n",
    "# Define initial standard deviation using g=eps*beta as a proxy\n",
    "if True:\n",
    "    stdArr = 5.e-5 * np.ones(2*M+1)\n",
    "\n",
    "np.set_printoptions(precision=4)\n",
    "for iternum in range(iterMax):\n",
    "    if (iternum<50) or (iternum%20):\n",
    "        for m in range(M+1):\n",
    "            offspring = parent + getMutation(stdArr, M, y,m=m)\n",
    "            costOff = residFun(offspring,eps,beta)\n",
    "            costPar = residFun(parent,eps,beta)\n",
    "\n",
    "            if costOff <= costPar:\n",
    "                parent = np.copy(offspring)\n",
    "                stdArr[M+m] = stdArr[M+m]*alpha\n",
    "            else :\n",
    "                parent = parent\n",
    "                stdArr[M+m] = stdArr[M+m] * alpha**(-1./4.)\n",
    "    else :\n",
    "        offspring = parent + getMutation(stdArr, M, y)\n",
    "        costOff = residFun(offspring,eps,beta)\n",
    "        costPar = residFun(parent,eps,beta)\n",
    "\n",
    "        if costOff <= costPar:\n",
    "            parent = np.copy(offspring)\n",
    "            stdArr = stdArr*alpha\n",
    "        else :\n",
    "            parent = parent\n",
    "            stdArr = stdArr * alpha**(-1./4.)\n",
    "        \n",
    "    if min(costOff,costPar) < tol:\n",
    "        print(); print(\"Exiting...\")\n",
    "        print(iternum, min(costOff,costPar))\n",
    "        break\n",
    "\n",
    "    if iternum <= 10:\n",
    "        print(iternum, min(costOff, costPar), stdArr[0],stdArr[M])\n",
    "    \n",
    "    if (10 < iternum <= 100):\n",
    "        if iternum%10 == 0:\n",
    "            print(iternum, min(costOff, costPar),stdArr[0],stdArr[M])\n",
    "    \n",
    "    if (100 < iternum <= 1000):\n",
    "        if iternum%100 == 0:\n",
    "            print(iternum, min(costOff, costPar),stdArr[0],stdArr[M])\n",
    "    \n",
    "    if (1000 < iternum <= 10000):\n",
    "        if iternum%500 == 0:\n",
    "            print(iternum, min(costOff, costPar),stdArr[0],stdArr[M])\n",
    "    \n",
    "    "
   ]
  },
  {
   "cell_type": "code",
   "execution_count": 238,
   "metadata": {},
   "outputs": [
    {
     "data": {
      "text/plain": [
       "(array([ 0.    , -0.0041, -0.0149, -0.0267, -0.033 , -0.0297, -0.0171,\n",
       "         0.0003,  0.0176,  0.0295,  0.0329,  0.0266,  0.0148,  0.0041,\n",
       "         0.    ]),\n",
       " array([ 0.0000e+00, -1.6091e-07, -5.6537e-07, -1.0131e-06, -1.2704e-06,\n",
       "        -1.1740e-06, -7.0501e-07,  0.0000e+00,  7.0501e-07,  1.1740e-06,\n",
       "         1.2704e-06,  1.0131e-06,  5.6537e-07,  1.6091e-07,  0.0000e+00]))"
      ]
     },
     "execution_count": 238,
     "metadata": {},
     "output_type": "execute_result"
    }
   ],
   "source": [
    "soln0 = (1.-2.*(eps*beta)**2 )*(1.-y**2)\n",
    "soln1 = (eps*beta**2)/3. * (y**3 - y )\n",
    "np.real(parent[M+1]-soln1), np.real(soln1)"
   ]
  },
  {
   "cell_type": "code",
   "execution_count": 239,
   "metadata": {},
   "outputs": [
    {
     "data": {
      "image/png": "[encoded data removed]",
      "text/plain": [
       "<Figure size 432x288 with 1 Axes>"
      ]
     },
     "metadata": {
      "needs_background": "light"
     },
     "output_type": "display_data"
    },
    {
     "data": {
      "image/png": "[encoded data removed]",
      "text/plain": [
       "<Figure size 432x288 with 1 Axes>"
      ]
     },
     "metadata": {
      "needs_background": "light"
     },
     "output_type": "display_data"
    },
    {
     "data": {
      "image/png": "[encoded data removed]",
      "text/plain": [
       "<Figure size 432x288 with 1 Axes>"
      ]
     },
     "metadata": {
      "needs_background": "light"
     },
     "output_type": "display_data"
    }
   ],
   "source": [
    "plt.plot(y, np.real(parent[M])) \n",
    "plt.plot(y, soln0)\n",
    "plt.show()\n",
    "\n",
    "plt.plot(y, np.real(parent[M+1]),label='real')\n",
    "plt.plot(y, soln1, label='theo')\n",
    "plt.plot(y, np.imag(parent[M+1]),label='imag+1')\n",
    "plt.plot(y, np.imag(parent[M-1]),label='imag-1')\n",
    "plt.legend()\n",
    "plt.show()\n",
    "\n",
    "plt.plot(y, np.real(parent[M+2]),label='real')\n",
    "plt.plot(y, np.imag(parent[M+2]),label='imag+2')\n",
    "plt.plot(y, np.imag(parent[M-2]),label='imag-2')\n",
    "plt.legend()\n",
    "plt.show()\n",
    "\n"
   ]
  },
  {
   "cell_type": "code",
   "execution_count": 233,
   "metadata": {},
   "outputs": [
    {
     "data": {
      "text/plain": [
       "1.725453547402056e-15"
      ]
     },
     "execution_count": 233,
     "metadata": {},
     "output_type": "execute_result"
    }
   ],
   "source": [
    "residFun(parent, eps, beta)"
   ]
  },
  {
   "cell_type": "code",
   "execution_count": null,
   "metadata": {},
   "outputs": [],
   "source": []
  }
 ],
 "metadata": {
  "kernelspec": {
   "display_name": "Python 3",
   "language": "python",
   "name": "python3"
  },
  "language_info": {
   "codemirror_mode": {
    "name": "ipython",
    "version": 3
   },
   "file_extension": ".py",
   "mimetype": "text/x-python",
   "name": "python",
   "nbconvert_exporter": "python",
   "pygments_lexer": "ipython3",
   "version": "3.7.0"
  }
 },
 "nbformat": 4,
 "nbformat_minor": 2
}
