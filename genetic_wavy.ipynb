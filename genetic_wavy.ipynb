{
 "cells": [
  {
   "cell_type": "code",
   "execution_count": 1,
   "metadata": {},
   "outputs": [],
   "source": [
    "%load_ext autoreload\n",
    "%autoreload 2"
   ]
  },
  {
   "cell_type": "code",
   "execution_count": 2,
   "metadata": {},
   "outputs": [],
   "source": [
    "import numpy as np\n",
    "import scipy as sp\n",
    "import matplotlib.pyplot as plt\n",
    "from lib import pseudo \n",
    "from lib import eval\n",
    "from lib import utils\n",
    "from scipy.optimize import minimize\n",
    "import warnings\n",
    "from warnings import warn\n",
    "warnings.filterwarnings('error', category=UnicodeWarning)\n",
    "import time \n",
    "import sys\n",
    "import h5py\n",
    "from itertools import combinations\n",
    "\n",
    "%matplotlib inline"
   ]
  },
  {
   "cell_type": "markdown",
   "metadata": {},
   "source": [
    "# Simple EA using lib.eval"
   ]
  },
  {
   "cell_type": "code",
   "execution_count": 45,
   "metadata": {},
   "outputs": [],
   "source": [
    "L = 1; M = 4; N = 11\n",
    "eps = 0.1; beta = 0.1\n",
    "alpha = beta\n",
    "_kxFun = utils._kxFun\n",
    "_kzFun = utils._kzFun\n",
    "norm = lambda arr: pseudo.chebnorm(arr, N)\n",
    "\n",
    "kxArr = _kxFun(alpha, L)\n",
    "kzArr = _kzFun(beta, M)\n",
    "y, DM = pseudo.chebdif(N, 2)\n",
    "D1 = DM[:,:,0]; D2 = DM[:,:,1]\n",
    "U = 1.-y**2; Uy = -2.*y\n",
    "\n",
    "\n",
    "flowDict = {\"Re\":10., \"U\":U, \"Uy\":Uy, \"y\":y, \"D1\":D1, \"D2\":D2,\\\n",
    "           \"eps\":eps, \"beta\":beta}\n",
    "\n",
    "def costFun(state,scale=1.e+4):\n",
    "    state = scale * state # To improve conditioning\n",
    "    derivs = utils.calcDerivatives(state, kxArr, kzArr, \n",
    "                        flowDict=flowDict, wavy=True)\n",
    "    linTerm = eval.getLinTerm(state, kxArr, kzArr, \n",
    "                flowDict, derivs=derivs)\n",
    "    linCost = norm(linTerm)\n",
    "    return linCost\n",
    "\n",
    "def getMutation(stdArr, l=None, m=None,c=None):\n",
    "    mutation = np.zeros((2*L, M+1, 4, N), dtype=np.complex)\n",
    "    if (m is None) and (l is None) and (c is None):\n",
    "        for lx in range(kxArr.size):\n",
    "            for lz in range(kzArr.size):\n",
    "                for lc in range(4):\n",
    "                    mutation[lx,lz,lc] = ( \n",
    "                        np.random.normal(0., stdArr[lx,lz,lc], (1,y.size) ) + \n",
    "                        1.j* np.random.normal(0., stdArr[lx,lz,lc], (1,y.size) )    )\n",
    "    else :\n",
    "        mutation[l,m,c] = ( \n",
    "                np.random.normal(0., stdArr[l,m,c], (1,y.size) ) + \n",
    "                1.j* np.random.normal(0., stdArr[l,m,c], (1,y.size) )    )\n",
    "    \n",
    "    mutation[0,0] = np.real(mutation[0,0])\n",
    "    \n",
    "    return mutation\n"
   ]
  },
  {
   "cell_type": "code",
   "execution_count": 46,
   "metadata": {},
   "outputs": [
    {
     "data": {
      "text/plain": [
       "0.0001235032016171167"
      ]
     },
     "execution_count": 46,
     "metadata": {},
     "output_type": "execute_result"
    }
   ],
   "source": [
    "scale = 1.\n",
    "residFun = lambda arr: costFun(arr, scale=scale)\n",
    "state = 1.e-10*np.ones((kxArr.size, kzArr.size, 4, N), dtype=np.complex)\n",
    "parent = state\n",
    "stdArr = np.zeros((2*L, M+1,4)) # All modes except u_00 should be zero\n",
    "stdArr[0,0,0] = 1.e-4\n",
    "costFun(state)"
   ]
  },
  {
   "cell_type": "code",
   "execution_count": 47,
   "metadata": {},
   "outputs": [
    {
     "name": "stdout",
     "output_type": "stream",
     "text": [
      "0 0.00012382779756989947 0.0 9.878765474230741e-05\n",
      "1 0.00012382779756989947 0.0 9.759000729485331e-05\n",
      "2 0.00012382779756989947 0.0 9.64068794694323e-05\n",
      "3 0.00012382779756989947 0.0 9.523809523809521e-05\n",
      "4 0.00012382779756989947 0.0 9.408348070695941e-05\n",
      "5 0.00012382779756989947 0.0 9.294286409033647e-05\n",
      "6 0.00012382779756989947 0.0 9.18160756851736e-05\n",
      "7 0.00012382779756989947 0.0 9.070294784580495e-05\n",
      "8 0.00012382779756989947 0.0 8.960331495900895e-05\n",
      "9 0.00012382779756989947 0.0 8.851701341936804e-05\n",
      "10 0.00012382779756989947 0.0 8.744388160492721e-05\n",
      "20 0.00012382779756989947 0.0 7.740271241464972e-05\n",
      "30 0.00012382779756989947 0.0 6.851456933503036e-05\n",
      "40 0.00012382779756989947 0.0 6.064705053251105e-05\n",
      "50 0.00012382779756989947 0.0 5.3682957858313735e-05\n",
      "60 0.00012382779756989947 0.0 4.751855101135728e-05\n",
      "70 0.00012382779756989947 0.0 4.206200217541238e-05\n",
      "80 0.00012382779756989947 0.0 3.723202811006466e-05\n",
      "90 0.00012382779756989947 0.0 3.295667931848882e-05\n",
      "100 0.00012382779756989947 0.0 2.9172268254924843e-05\n",
      "200 0.00012382779756989947 0.0 8.614651672389915e-06\n",
      "300 0.00012382779756989947 0.0 2.5439305160674955e-06\n",
      "400 0.00012371241362511877 0.0 9.020542141359654e-07\n",
      "500 0.00012349743549963427 0.0 7.067830803486699e-07\n",
      "600 0.0001234102990935174 0.0 4.611898891750023e-07\n",
      "700 0.000123239822258235 0.0 4.901922055918225e-07\n",
      "800 0.00012314319195462088 0.0 2.8313058536352645e-07\n",
      "900 0.0001230434023075128 0.0 2.663791096559945e-07\n",
      "1000 0.00012297823562023533 0.0 2.087150026160421e-07\n",
      "1500 0.00012256580554238173 0.0 1.738176188374199e-07\n",
      "2000 0.00012224541743358224 0.0 2.8313058536352116e-07\n",
      "2500 0.00012196198698330644 0.0 1.9636633921878915e-07\n",
      "3000 0.0001216729749149628 0.0 2.218402221598469e-07\n",
      "3500 0.00012133058778636299 0.0 1.8474828687386818e-07\n",
      "4000 0.00012106808467586091 0.0 2.3579083224057694e-07\n",
      "4500 0.0001208261998591208 0.0 1.3619065255235308e-07\n",
      "5000 0.00012062561729644975 0.0 1.8474828687386463e-07\n",
      "5500 0.00012046741596591271 0.0 1.7381761883740903e-07\n",
      "6000 0.00012029840493918209 0.0 1.963663392187781e-07\n",
      "6500 0.00012012345406062829 0.0 1.5385816499153353e-07\n",
      "7000 0.00011991543459265106 0.0 1.7381761883740588e-07\n",
      "7500 0.00011974175295417163 0.0 1.5385816499153122e-07\n",
      "8000 0.00011954375411204075 0.0 1.9636633921877266e-07\n",
      "8500 0.00011939835363464449 0.0 1.7381761883740204e-07\n",
      "9000 0.00011925576295348919 0.0 2.0871500261601756e-07\n",
      "9500 0.00011908547463319944 0.0 2.3579083224055937e-07\n",
      "10000 0.00011891873742671656 0.0 1.7381761883739775e-07\n"
     ]
    },
    {
     "name": "stderr",
     "output_type": "stream",
     "text": [
      "C:\\Users\\Sabarish\\Anaconda3\\lib\\site-packages\\numpy\\core\\numeric.py:501: ComplexWarning: Casting complex values to real discards the imaginary part\n",
      "  return array(a, dtype, copy=False, order=order)\n"
     ]
    },
    {
     "data": {
      "image/png": "[encoded data removed]",
      "text/plain": [
       "<Figure size 432x288 with 1 Axes>"
      ]
     },
     "metadata": {
      "needs_background": "light"
     },
     "output_type": "display_data"
    }
   ],
   "source": [
    "iter0 = 0 #======================= Important\n",
    "iterMax = 15001\n",
    "iterSwitch0  = 50\n",
    "iterSwitchInt= 100\n",
    "alpha = 1.05\n",
    "iterPrint = 10\n",
    "tol = 1.e-14\n",
    "\n",
    "\n",
    "np.set_printoptions(precision=4)\n",
    "for iternum in range(iter0,iterMax):\n",
    "    if (iternum<50) or (iternum%20):\n",
    "        for l in range(2*L):\n",
    "            for m in range(M+1):\n",
    "                for c in range(4):\n",
    "                    offspring = parent + getMutation(stdArr, m=m, l=l, c=c)\n",
    "                    costOff = residFun(offspring)\n",
    "                    costPar = residFun(parent)\n",
    "\n",
    "                    if costOff <= costPar:\n",
    "                        parent = np.copy(offspring)\n",
    "                        stdArr[l,m,c] = stdArr[l,m,c]*alpha\n",
    "                    else :\n",
    "                        parent = parent\n",
    "                        stdArr[l,m,c] = stdArr[l,m,c] * alpha**(-1./4.)\n",
    "    else :\n",
    "        offspring = parent + getMutation(stdArr)\n",
    "        costOff = residFun(offspring)\n",
    "        costPar = residFun(parent)\n",
    "\n",
    "        if costOff <= costPar:\n",
    "            parent = np.copy(offspring)\n",
    "            stdArr = stdArr*alpha\n",
    "        else :\n",
    "            parent = parent\n",
    "            stdArr = stdArr * alpha**(-1./4.)\n",
    "        \n",
    "    if min(costOff,costPar) < tol:\n",
    "        print(); print(\"Exiting...\")\n",
    "        print(iternum, min(costOff,costPar))\n",
    "        break\n",
    "\n",
    "    if iternum <= 10:\n",
    "        print(iternum, min(costOff, costPar), np.amin(stdArr.flat),np.amax(stdArr.flat) )\n",
    "    \n",
    "    if (10 < iternum <= 100):\n",
    "        if iternum%10 == 0:\n",
    "            print(iternum, min(costOff, costPar),np.amin(stdArr.flat),np.amax(stdArr.flat) )\n",
    "    \n",
    "    if (100 < iternum <= 1000):\n",
    "        if iternum%100 == 0:\n",
    "            print(iternum, min(costOff, costPar),np.amin(stdArr.flat),np.amax(stdArr.flat) )\n",
    "    \n",
    "    if (1000 < iternum <= 10000):\n",
    "        if iternum%500 == 0:\n",
    "            print(iternum, min(costOff, costPar),np.amin(stdArr.flat),np.amax(stdArr.flat) )\n",
    "            \n",
    "plt.plot(y, (1.-y**2)*parent[0,0,0], 'rx')\n",
    "plt.plot(y, (1.-y**2)*(-(eps*beta)**2)/2.)\n",
    "plt.show()"
   ]
  },
  {
   "cell_type": "code",
   "execution_count": null,
   "metadata": {},
   "outputs": [],
   "source": []
  }
 ],
 "metadata": {
  "kernelspec": {
   "display_name": "Python 3",
   "language": "python",
   "name": "python3"
  },
  "language_info": {
   "codemirror_mode": {
    "name": "ipython",
    "version": 3
   },
   "file_extension": ".py",
   "mimetype": "text/x-python",
   "name": "python",
   "nbconvert_exporter": "python",
   "pygments_lexer": "ipython3",
   "version": "3.7.0"
  }
 },
 "nbformat": 4,
 "nbformat_minor": 2
}
