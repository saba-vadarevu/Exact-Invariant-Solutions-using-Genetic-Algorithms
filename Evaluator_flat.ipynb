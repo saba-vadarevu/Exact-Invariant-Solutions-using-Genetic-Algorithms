{
 "cells": [
  {
   "cell_type": "markdown",
   "metadata": {},
   "source": [
    "# Evaluate NSE for flat PCoF"
   ]
  },
  {
   "cell_type": "code",
   "execution_count": 1,
   "metadata": {},
   "outputs": [],
   "source": [
    "%load_ext autoreload\n",
    "%autoreload 2"
   ]
  },
  {
   "cell_type": "code",
   "execution_count": 2,
   "metadata": {},
   "outputs": [],
   "source": [
    "import numpy as np\n",
    "import scipy as sp\n",
    "import matplotlib.pyplot as plt\n",
    "from lib import pseudo \n",
    "from scipy.optimize import minimize\n",
    "import warnings\n",
    "warnings.filterwarnings('error', category=UnicodeWarning)\n",
    "import time \n",
    "import sys\n",
    "import h5py\n",
    "\n",
    "%matplotlib inline\n",
    "\n",
    "\n"
   ]
  },
  {
   "cell_type": "markdown",
   "metadata": {},
   "source": [
    "# Long term strategy\n",
    "\n",
    "* Define state as x-z Fourier transformed (u,v,w,p), with Chebyshev collocation for y (wall-normal) \n",
    "* Define cost function as \n",
    "    F(state) = norm(acceleration) + norm(divergence), summed over all Fourier modes\n",
    "    ** Cost is now a scalar **\n",
    "\n",
    "### To do later\n",
    "* Normalize states to improve performance in higher Fourier modes\n",
    "* Define Jacobian of the cost analytically. Pay attention to complex-ness of fields\n",
    "* For very large states, gradient computation over (permuted) subsets of Fourier modes; see if this improves performance\n",
    "* Estimate performance, and look into numerical stability\n",
    "* Callback functions to check divergence, boundary conditions, resolution adequacy (wall-normal and Fourier)"
   ]
  },
  {
   "cell_type": "markdown",
   "metadata": {},
   "source": [
    "# Formulation"
   ]
  },
  {
   "cell_type": "markdown",
   "metadata": {},
   "source": [
    "## NSE in physical space for Couette flow Equilibria :\n",
    "\n",
    "\\begin{align}\n",
    "    0=u_t &= - (\\mathbf{u}\\cdot \\nabla) u - p_x + \\frac{1}{Re}\\Delta u\\\\ \n",
    "    0=v_t &= - (\\mathbf{u}\\cdot \\nabla) v - p_y + \\frac{1}{Re}\\Delta v \\\\\n",
    "    0=w_t &= - (\\mathbf{u}\\cdot \\nabla) w - p_z + \\frac{1}{Re}\\Delta w \\\\\n",
    "    0 &= u_x + v_y + w_z\n",
    "\\end{align}\n",
    "\n",
    "For plane Couette flow (PCoF), the boundary conditions on (u,v,w) are \n",
    "$$ u(y= \\pm 1 ) = y, v(y=\\pm 1) = 0, w(y= \\pm 1) = 0$$\n",
    "which account for the non-dimensionalization: lengths scaled by half-height of the channel, and velocities by the speed of the plates. \n",
    "\n",
    "We define a mean streamwise velocity $U$ that \n",
    "1. Matches any imposed pressure gradient\n",
    "2. Satisfies boundary conditions\n",
    "so that the fields $(u,v,w)$ are zero at the walls, and $p$ can be periodic over some box size. \n",
    "\n",
    "For Poiseuille flow, \n",
    "$$U = 1-y^2, \\hspace{10pt} P = \\frac{-2}{Re} x .$$\n",
    "For Couette flow, \n",
    "$$U = y, \\hspace{10pt} P = 0 $$\n",
    "\n",
    "Some of the $U$ and $P$ can be dropped to write the NSE in terms of just the fluctuations: $ P_x = \\frac{1}{Re}\\Delta U$.\n",
    "\n",
    "\\begin{align}\n",
    "    0=u_t &= - (Uu_x + uu_x + vu' + vU' + wu_z) - p_x + \\frac{1}{Re}(u'' + u_{xx} +u_{zz}+U_{zz})\\\\ \n",
    "    0=v_t &= - (Uv_x + uv_x + vv' + wv_z) - p_y + \\frac{1}{Re}(v'' + v_{xx}  +v_{zz})\\\\\n",
    "    0=w_t &= - (Uw_x + uw_x + vw' + ww_z) - p_z + \\frac{1}{Re}(w'' + w_{xx}  +w_{zz})\\\\\n",
    "    0=r_d &=  u_x + v' + w_z\n",
    "\\end{align}\n",
    "Prime denotes wall-normal derivative. $r_d$ is the residual for the divergence term.\n",
    "\n",
    "$U_{x}, U_{xx}, U_{z}, U_{zz}$ become non-zero when wavy walls are involved. For longitudinal grooves, the only term that appears in the NSE is $U_{zz}$, which is included in the first momentum equation above. This term can be easily accounted for directly in the computation of $u_{zz}$ when calculating derivatives to compute the cost. When computing gradients, the $U_{zz}$ term is irrelevant because $U$ is held constant during the course of the computation.\n"
   ]
  },
  {
   "cell_type": "markdown",
   "metadata": {},
   "source": [
    "## NSE in Fourier spectral space\n",
    "\\begin{align}\n",
    "   0 = \\hat{u}_t &=  \\hat{N}^0 -Uu_x - vU' -il\\alpha \\hat{p} + \\frac{D^2 -l^2\\alpha^2 - m^2\\beta^2}{Re} \\hat{u} &= \\hat{N}^0 + \\hat{L}^0\\\\\n",
    "   0 = \\hat{v}_t &=  \\hat{N}^1 -Uv_x - D \\hat{p} + \\frac{D^2 -l^2\\alpha^2  - m^2\\beta^2}{Re} \\hat{v} &= \\hat{N}^1 + \\hat{L}^1\\\\\n",
    "   0 = \\hat{w}_t &=  \\hat{N}^2 -Uw_x - im\\beta \\hat{p} + \\frac{D^2 -l^2\\alpha^2  - m^2\\beta^2}{Re} \\hat{w}&= \\hat{N}^2 + \\hat{L}^2 \\\\\n",
    "   0 = \\hat{r}_d &=   il\\alpha \\hat{u} + D\\hat{v} + im\\beta \\hat{w} &= \\hat{L}^3\n",
    "\\end{align}\n",
    "$N^i=(\\mathbf{u}\\cdot \\nabla) u_i$ is the non-linear term in the momentum equation in physical space, and $\\hat{N}^i$ is its Fourier coefficient for wavenumber pair $(l\\alpha,  m\\beta)$. Similarly, $L^i$ is the collection of linear terms, and $\\hat{L}^i$ its Fourier coefficient. $N$ and $L$ are given superscripts to avoid overcrowding subscripts (where wavenumbers are derivatives will be indicated). \n",
    "\n",
    "The boundary conditions on the Fourier coefficients of the velocities are\n",
    "$$ \\hat{u}(y = \\pm 1) = 0, \\hspace{3pt}  \\hat{v}(y = \\pm 1) = 0,\\hspace{3pt} \\hat{w}(y = \\pm 1) = 0 $$\n"
   ]
  },
  {
   "cell_type": "code",
   "execution_count": null,
   "metadata": {},
   "outputs": [],
   "source": []
  },
  {
   "cell_type": "markdown",
   "metadata": {},
   "source": [
    "## Cost Function\n",
    "\n",
    "The cost function is the integral of squares of accelerations and divergence. For Chebyshev collocation, the integral is expressed using Clenshaw-Curtis quadrature (dot product of a weight-matrix and the array under consideration). For discrete Fourier modes, the integral is a simple summation over Fourier modes. The cost, denoted $F(\\chi)$, where $\\chi$ is the state,\n",
    "$$ F(\\chi) = \\sum\\limits_{l = -L}^{L} \\sum\\limits_{m=0}^{M} q\\lbrack j\\rbrack \\big\\{\n",
    "    \\hat{u}_{t,(l\\alpha, m\\beta )}^2\\lbrack j\\rbrack +\\hat{v}^2_{t,(l\\alpha, m\\beta )}\\lbrack j\\rbrack + \\hat{w}^2_{t,(l\\alpha, m\\beta )}\\lbrack j\\rbrack+\\zeta \\hat{r}^2_{d,(l\\alpha, m\\beta )}\\lbrack j\\rbrack \\big\\} $$\n",
    "The factor $\\zeta$ is a constant, usually set to greater than 1, to penalize divergence more than acceleration. We will be fairly liberal with boldening vectors, doing so only when emphasis is needed. \n",
    "\n",
    "Streamwise wavenumbers are non-negative because we impose real-valuedness; Fourier coefficients of mode $(l,m)$ and $(-l,-m)$ become complex conjugates, so solving for one is enough. We refer to wavenumbers simply as $(l,m)$ instead of $(l\\alpha, m\\beta)$ for brevity. \n",
    "\n",
    "The coefficients tend to be complex numbers. The squares above represent elementwise product of absolute values. \n",
    "\n",
    "### Decomposing the cost function\n",
    "\n",
    "The terms in the NSE will be split into linear and non-linear parts, just to make things easier to handle and debug. Subsequently, it is better to express the cost function in terms of the two parts. Note that each residual term (i.e., acceleration or divergence) is expressed as the sum $L^i + N^i$. Then, the cost due to a single Fourier mode is, \n",
    "\n",
    "$$ F(\\chi)_{l,m} = ||\\hat{L}^{0}_{l,m}||^2 + ||\\hat{N}^0_{l,m}||^2 + 2||\\hat{L}^0_{l,m} * \\hat{N}^0_{l,m} || \n",
    "+ ||\\hat{L}^{1}_{l,m}||^2 + ||\\hat{N}^1_{l,m}||^2 + 2||\\hat{L}^1_{l,m} * \\hat{N}^1_{l,m} || \\\\\n",
    "+||\\hat{L}^{2}_{l,m}||^2 + ||\\hat{N}^2_{l,m}||^2 + 2||\\hat{L}^2_{l,m} * \\hat{N}^2_{l,m} || \n",
    "+||\\hat{L}^{3}_{l,m}||^2$$\n",
    "The $*$ indicates elementwise multiplication."
   ]
  },
  {
   "cell_type": "markdown",
   "metadata": {},
   "source": [
    "# Testing strategy\n",
    "\n",
    "1. Linear terms\n",
    "    * Zero solution\n",
    "    * Low order polynomials\n",
    "    * Gradient function\n",
    "2. Non-linear terms\n",
    "    * Zero solution\n",
    "    * Low order polynomials\n",
    "    * Streamwise-spanwise aliasing\n",
    "3. Error analysis: Cost vs introduced error in different Chebyshev and Fourier modes\n",
    "4. Ensure equilibria from channelflow are satisfied. \n",
    "5. Iterate over equilibria. See how they change."
   ]
  },
  {
   "cell_type": "markdown",
   "metadata": {},
   "source": [
    "### Going form $u$ to $\\tilde{u}$ to match BCs\n",
    "\n",
    "Given $u(y)$, the values for $\\tilde{u}$ are not uniquely defined at the walls going just buy $ \\tilde{u} = u/(1-y^2)$. Assigning arbitrary values to $\\tilde{u}$ at the boundaries can mess with the derivatives. To work around this, I can fix the wall values by matching derivatives at the wall. \n",
    "\n",
    "For instance, finding $\\tilde{u}(y=\\pm 1)$ to match the second derivative:\n",
    "$$ u'' = -2 \\tilde{u} - 4y \\tilde{u}' + (1-y^2) \\tilde{u}''$$\n",
    "\n",
    "Consider the derivatives __at the wall__ using the differentiation matrices, \n",
    "$$ u''\\lbrack 0 \\rbrack \n",
    "= -2 \\tilde{u}\\lbrack 0 \\rbrack\n",
    " - 4y\\lbrack 0 \\rbrack \\sum\\limits_{j=0}^{N-1} D\\lbrack 0,j \\rbrack \\tilde{u}\\lbrack j \\rbrack $$\n",
    " The third term is zero at the walls. \n",
    " \n",
    "It's easy to separate out the state at the wall, \n",
    "$$ u''\\lbrack 0 \\rbrack \n",
    "= -2 \\tilde{u}\\lbrack 0 \\rbrack - 4y\\lbrack 0 \\rbrack  D\\lbrack 0,0 \\rbrack \\tilde{u}\\lbrack 0 \\rbrack\n",
    " - 4y\\lbrack 0 \\rbrack \\sum\\limits_{j=1}^{N-1} D\\lbrack 0,j \\rbrack \\tilde{u}\\lbrack j \\rbrack $$\n",
    "and then assign its value as\n",
    "$$ (2 + 4y\\lbrack 0 \\rbrack  D\\lbrack 0,0 \\rbrack) \\tilde{u}\\lbrack 0 \\rbrack \n",
    "= -u''\\lbrack 0 \\rbrack \n",
    " - 4y\\lbrack 0 \\rbrack \\sum\\limits_{j=1}^{N-1} D\\lbrack 0,j \\rbrack \\tilde{u}\\lbrack j \\rbrack $$\n",
    "Since the values of $u''$ and $\\tilde{u}(y \\neq 1)$ is already known. \n",
    "\n",
    "Except, the value for $\\tilde{u}(y=-1)$ isn't known yet. But this can be overcome by solving for values at both walls together:\n",
    "$$ (2 + 4y\\lbrack 0 \\rbrack  D\\lbrack 0,0 \\rbrack) \\tilde{u}\\lbrack 0 \\rbrack \n",
    "+ 4y\\lbrack 0 \\rbrack D\\lbrack 0,N-1 \\rbrack \\tilde{u}\\lbrack N-1 \\rbrack\n",
    "= -u''\\lbrack 0 \\rbrack \n",
    " - 4y\\lbrack 0 \\rbrack \\sum\\limits_{j=1}^{N-2} D\\lbrack 0,j \\rbrack \\tilde{u}\\lbrack j \\rbrack $$\n",
    "for derivative at $y=1$, and \n",
    "$$ (2 + 4y\\lbrack N-1 \\rbrack  D\\lbrack N-1,N-1 \\rbrack) \\tilde{u}\\lbrack N-1 \\rbrack \n",
    "+ 4y\\lbrack N-1 \\rbrack D\\lbrack N-1,0 \\rbrack \\tilde{u}\\lbrack 0 \\rbrack\n",
    "= -u''\\lbrack N-1 \\rbrack \n",
    " - 4y\\lbrack N-1 \\rbrack \\sum\\limits_{j=1}^{N-2} D\\lbrack N-1,j \\rbrack \\tilde{u}\\lbrack j \\rbrack $$"
   ]
  },
  {
   "cell_type": "markdown",
   "metadata": {},
   "source": [
    "# Define a function to compute derivatives \n",
    "## Compute for each Fourier coefficient in the state, for u,v,w,p\n",
    "\n",
    "__This is the function I will later have to modify to compute for grooved flows__"
   ]
  },
  {
   "cell_type": "code",
   "execution_count": 3,
   "metadata": {},
   "outputs": [],
   "source": [
    "# %load lib/utils.py\n",
    "# from lib.utils import calcDerivatives"
   ]
  },
  {
   "cell_type": "markdown",
   "metadata": {},
   "source": [
    "# Linear terms"
   ]
  },
  {
   "cell_type": "markdown",
   "metadata": {},
   "source": [
    "## Divergence\n",
    "\n",
    "$$L^3_{l,m} = il\\alpha \\hat{u} + \\hat{v}'  + im\\beta \\hat{w} $$\n",
    "\n",
    "#### Cost\n",
    "\n",
    "$$F^3_{l,m} = \\zeta || L^3_{l,m} ||^2 $$ \n",
    "\n",
    "#### Derivatives\n",
    "See notebook 'Laminar1d.ipynb' for details on derivation, as well as definition of $A^i$\n",
    "\\begin{align}\n",
    "    \\frac{\\partial F^3_{l,m}}{\\partial \\mathbf{u} } &= \\zeta \\hspace{8pt}\\text{qdot}\\{ 2\\mathbf{L}^3_{l,m} , (il\\alpha) A^0 \\}, \\\\\n",
    "    \\frac{\\partial F^3_{l,m}}{\\partial \\mathbf{v} } &= \\zeta \\hspace{8pt}\\text{qdot}\\{ 2\\mathbf{L}^3_{l,m} , A^1 \\}, \\\\\n",
    "    \\frac{\\partial F^3_{l,m}}{\\partial \\mathbf{w} } &= \\zeta \\hspace{8pt}\\text{qdot}\\{ 2\\mathbf{L}^3_{l,m} , (im\\beta) A^0 \\}, \\\\\n",
    "    \\frac{\\partial F^3_{l,m}}{\\partial \\mathbf{p} } &= 0, \\\\\n",
    "\\end{align}\n",
    "$I$ is the identity matrix. qdot() takes two arguments, a vector, say $\\mathbf{v}$, of size N and a matrix, say $A$, of shape (N,N), and returns the (row) vector\\\\\n",
    "matmul( row($\\mathbf{q} * \\mathbf{v}$), $A$ ),\n",
    "\n",
    "where $\\mathbf{q}$ is the weight vector used to impose Clenshaw-Curtis quadrature, and $D$ is the wall-normal differentiation matrix. "
   ]
  },
  {
   "cell_type": "markdown",
   "metadata": {},
   "source": [
    "#### Test F3, L3\n",
    "\n",
    "$$ \\tilde{u} = y - y^6, \\hspace{8pt}, \\tilde{v} = 3 + y^5, \\hspace{8pt} \\tilde{w} = y^4, \\hspace{8pt} p = 1-y^4 $$\n",
    "with $k_x = 1, k_z = 2, \\zeta = 5.$\n",
    "This produces \n",
    "$$L^3 = i(1-y^2)(y-y^6) + (-2y)(3+y^5) + (1-y^2)5y^4 + 2i (1-y^2)y^4\\\\\n",
    " = -6y-2y^6+5y^4 - 5y^6 + i(y-y^3-y^6+y^8 + 2y^4 -2y^6)$$\n",
    " \n",
    " \n",
    "__This test was written for a single mode. Now, we're computing all modes together. The following code is adapted to reflect this.__"
   ]
  },
  {
   "cell_type": "code",
   "execution_count": 4,
   "metadata": {},
   "outputs": [],
   "source": [
    "#%load lib/eval.py\n",
    "from lib.eval import getLinTerm\n",
    "from lib.utils import qnorm"
   ]
  },
  {
   "cell_type": "code",
   "execution_count": 5,
   "metadata": {
    "scrolled": false
   },
   "outputs": [
    {
     "name": "stdout",
     "output_type": "stream",
     "text": [
      "If L3 is properly defined, ignoring aliasing errors, the following error must be zero:\n",
      "Error in L3: 1.250114131862842e-15\n"
     ]
    },
    {
     "name": "stderr",
     "output_type": "stream",
     "text": [
      "F:\\UoS\\GCF\\lib\\utils.py:102: UserWarning: Calling chebdif 3...\n",
      "  warn(\"Calling chebdif 3...\")\n",
      "F:\\UoS\\GCF\\lib\\eval.py:30: UserWarning: Calculating derivs in getLinTerm.\n",
      "  warn(\"Calculating derivs in getLinTerm.\")\n"
     ]
    }
   ],
   "source": [
    "N = 35\n",
    "y = pseudo.chebdif(N,1)[0]\n",
    "U = y; Uy= np.ones(N)\n",
    "flowDict = {'y':y, 'U':U, 'Uy':Uy, 'N':N,'Re':400.}\n",
    "kx = 1.; kz = 2.\n",
    "state_lm = np.concatenate((y-y**6, 3.+y**5, y**4, 1.-y**4))\n",
    "\n",
    "state = np.zeros((4,2,4,N),dtype=np.complex)\n",
    "kxArr = np.array([0., kx, -2.*kx, -kx ])\n",
    "kzArr = np.array([0., kz])\n",
    "state[1,1] = state_lm.reshape((4,N))\n",
    "\n",
    "LinTerm = getLinTerm(state, kxArr, kzArr,flowDict)\n",
    "L3_lm = LinTerm[1,1,3]\n",
    "L3_lm_calc = (-6.*y+5.*y**4-7.*y**6) + 1.j* ( y - y**3 + 2.*y**4 - 3.*y**6 + y**8)\n",
    "\n",
    "print(\"If L3 is properly defined, ignoring aliasing errors, the following error must be zero:\")\n",
    "print(\"Error in L3:\", qnorm(L3_lm-L3_lm_calc)/(1.e-12+qnorm(L3_lm)))\n",
    "\n",
    "\n"
   ]
  },
  {
   "cell_type": "markdown",
   "metadata": {},
   "source": [
    "#### Something's wrong\n",
    "\n",
    "__It's not hard to guess what's wrong though. It's not a problem with the calcDerivatives function, because I tested with cost=$||u''||$ and things were fine. The problem is that we now have complex entries, and I haven't paid attention to how the Jacobian works for complex entries.__\n",
    "\n",
    "I don't want to spend too much time right now to fix the Jacobian. I will work through the cost function first, and see how it does with L-BFGS-B or other methods that aren't very dependent on supplying a Jacobian. If performance is indeed a problem, then I can come back and see if I can properly specify the Jacobian. "
   ]
  },
  {
   "cell_type": "markdown",
   "metadata": {},
   "source": [
    "## Pressure gradient and diffusion (and mean velocity transport)\n",
    "### Might as well throw in divergence"
   ]
  },
  {
   "cell_type": "code",
   "execution_count": 6,
   "metadata": {},
   "outputs": [],
   "source": [
    "#%load eval.py\n",
    "from lib.eval import getLinTerm\n",
    "from lib.utils import qnorm"
   ]
  },
  {
   "cell_type": "markdown",
   "metadata": {},
   "source": [
    "### Testing getL0123()\n",
    "\n",
    "1. Ensure zero state returns zero cost\n",
    "2. Work with low order polynomials: __Did this for divergence ($L^3$), not doing it again__"
   ]
  },
  {
   "cell_type": "code",
   "execution_count": 7,
   "metadata": {},
   "outputs": [
    {
     "name": "stdout",
     "output_type": "stream",
     "text": [
      "cost with [u,v,w,p]=[0,0,0,1] for kx=0, kz=0 should be zero: 1.21559e-14\n",
      "cost with [u,v,w,p]=[0,0,0,1] for kx=1, kz=0 should not be zero: 1.41421\n",
      "cost with [u,v,w,p]=[0,0,0,0] for kx=1, kz=0 should be zero: 0\n"
     ]
    },
    {
     "name": "stderr",
     "output_type": "stream",
     "text": [
      "F:\\UoS\\GCF\\lib\\utils.py:102: UserWarning: Calling chebdif 3...\n",
      "  warn(\"Calling chebdif 3...\")\n",
      "F:\\UoS\\GCF\\lib\\eval.py:30: UserWarning: Calculating derivs in getLinTerm.\n",
      "  warn(\"Calculating derivs in getLinTerm.\")\n"
     ]
    }
   ],
   "source": [
    "N = 35\n",
    "y = pseudo.chebdif(N,1)[0]\n",
    "flowDict = {'Re':400., 'U':y, 'Uy':np.ones(y.shape)}\n",
    "kxArr = np.array([0., 1.,-2., -1.])\n",
    "kzArr = np.array([0., 1.])\n",
    "# Constant pressure should make no difference for (kx,kz) = (0,0), but produce cost>0 for other kx, kz\n",
    "\n",
    "state =  np.zeros((kxArr.size, kzArr.size, 4, N))\n",
    "ix=0 ; iz = 0\n",
    "state[ix,iz,3] = 1.\n",
    "kx = kxArr[ix]; kz = kzArr[iz]\n",
    "linTerm = getLinTerm(state, kxArr, kzArr, flowDict)\n",
    "print(\"cost with [u,v,w,p]=[0,0,0,1] for kx=%g, kz=%g should be zero: %g\"%(kx, kz, qnorm(linTerm[ix,iz],N=N) )  )\n",
    "\n",
    "state =  np.zeros((kxArr.size, kzArr.size, 4, N))\n",
    "ix=1 ; iz = 0\n",
    "state[ix,iz,3] = 1.\n",
    "kx = kxArr[ix]; kz = kzArr[iz]\n",
    "linTerm = getLinTerm(state, kxArr, kzArr, flowDict)\n",
    "print(\"cost with [u,v,w,p]=[0,0,0,1] for kx=%g, kz=%g should not be zero: %g\"%(kx, kz, qnorm(linTerm[ix,iz],N=N) )  )\n",
    "\n",
    "\n",
    "state =  np.zeros((kxArr.size, kzArr.size, 4, N))\n",
    "ix=1 ; iz = 0\n",
    "kx = kxArr[ix]; kz = kzArr[iz]\n",
    "linTerm = getLinTerm(state, kxArr, kzArr, flowDict)\n",
    "print(\"cost with [u,v,w,p]=[0,0,0,0] for kx=%g, kz=%g should be zero: %g\"%(kx, kz, qnorm(linTerm[ix,iz],N=N) )  )\n"
   ]
  },
  {
   "cell_type": "markdown",
   "metadata": {},
   "source": [
    "## Error analysis\n",
    "\n",
    "__Use 3 polynomials to introduce error to Fourier coeffs and see how cost scales with magnitude of error__"
   ]
  },
  {
   "cell_type": "code",
   "execution_count": 8,
   "metadata": {},
   "outputs": [],
   "source": [
    "#%load eval.py\n",
    "from lib.eval import getLinTerm\n",
    "from lib.utils import qnorm"
   ]
  },
  {
   "cell_type": "code",
   "execution_count": 9,
   "metadata": {
    "scrolled": false
   },
   "outputs": [
    {
     "name": "stderr",
     "output_type": "stream",
     "text": [
      "F:\\UoS\\GCF\\lib\\utils.py:102: UserWarning: Calling chebdif 3...\n",
      "  warn(\"Calling chebdif 3...\")\n",
      "F:\\UoS\\GCF\\lib\\eval.py:30: UserWarning: Calculating derivs in getLinTerm.\n",
      "  warn(\"Calculating derivs in getLinTerm.\")\n"
     ]
    },
    {
     "data": {
      "image/png": "[encoded data removed]",
      "text/plain": [
       "<Figure size 432x288 with 1 Axes>"
      ]
     },
     "metadata": {
      "needs_background": "light"
     },
     "output_type": "display_data"
    },
    {
     "data": {
      "image/png": "[encoded data removed]",
      "text/plain": [
       "<Figure size 432x288 with 1 Axes>"
      ]
     },
     "metadata": {
      "needs_background": "light"
     },
     "output_type": "display_data"
    },
    {
     "data": {
      "image/png": "[encoded data removed]",
      "text/plain": [
       "<Figure size 432x288 with 1 Axes>"
      ]
     },
     "metadata": {
      "needs_background": "light"
     },
     "output_type": "display_data"
    },
    {
     "data": {
      "image/png": "[encoded data removed]",
      "text/plain": [
       "<Figure size 432x288 with 1 Axes>"
      ]
     },
     "metadata": {
      "needs_background": "light"
     },
     "output_type": "display_data"
    },
    {
     "data": {
      "image/png": "[encoded data removed]",
      "text/plain": [
       "<Figure size 432x288 with 1 Axes>"
      ]
     },
     "metadata": {
      "needs_background": "light"
     },
     "output_type": "display_data"
    }
   ],
   "source": [
    "N = 35\n",
    "y,DM = pseudo.chebdif(N,2)\n",
    "D1 = np.ascontiguousarray(DM[:,:,0])\n",
    "D2 = np.ascontiguousarray(DM[:,:,1])\n",
    "yQuad = 1.-y**2\n",
    "def linCost_lm(arr,kx,kz,flowDict):\n",
    "    if kx == 0.: kxArr = np.array([0.]);xi = 0\n",
    "    else : kxArr = np.array([0., kx, -2.*kx, -kx]);xi=1\n",
    "    if kz == 0.: kzArr = np.array([0.]);zi=0\n",
    "    else : kzArr = np.array([0., kz]);zi=1\n",
    "    \n",
    "    state = np.zeros((kxArr.size, kzArr.size, 4, N), dtype=np.complex)\n",
    "    state[xi,zi].flat = arr\n",
    "    \n",
    "    linTerm = getLinTerm(state, kxArr, kzArr, flowDict)\n",
    "    return qnorm(linTerm[xi,zi],N=N)\n",
    "\n",
    "poly15 = (-y**2 - y**3 + y**8 + y**15); poly15 = (poly15/qnorm(poly15))\n",
    "poly32= (y**2 +y**5 - y**11 + y**32); poly32 = poly32/qnorm(poly32)\n",
    "poly34= (y**2 +y**7 - y**13 + y**34); poly34 = poly34/qnorm(poly34)\n",
    "randCoeff = pseudo.chebcoll_vec(np.random.randn(N)).real; randCoeff = randCoeff/qnorm(randCoeff)\n",
    "randVec = np.random.randn(N); randVec = randVec/qnorm(randVec)\n",
    "\n",
    "# Calculate magnitude of first derivative of the errors\n",
    "derFun = lambda arr: qnorm( -2.*y*arr + yQuad * (D1@arr))\n",
    "der15 = derFun(poly15) \n",
    "der32 = derFun(poly32)\n",
    "der34 = derFun(poly34)\n",
    "derRC = derFun(randCoeff)\n",
    "derRV = derFun(randVec)\n",
    "\n",
    "magArr = 10**np.arange(-9., -1.)\n",
    "flowDict = {'Re':400., 'U':y, 'Uy':np.ones(y.shape)} # PCoF flow\n",
    "\n",
    "mode15 = np.zeros((4*N))\n",
    "mode32= np.zeros((4*N))\n",
    "mode34= np.zeros((4*N))\n",
    "modeRV = np.zeros((4*N))\n",
    "modeRC = np.zeros((4*N))\n",
    "\n",
    "kx = 2.; kz = 3.\n",
    "\n",
    "costArr = np.zeros((5,magArr.size))\n",
    "for i in range(magArr.size):\n",
    "    mode15[:N]  = magArr[i] * poly15\n",
    "    costArr[0,i] = linCost_lm(mode15, kx, kz, flowDict)\n",
    "    \n",
    "    mode32[:N] = magArr[i] * poly32\n",
    "    costArr[1,i] = linCost_lm(mode32, kx, kz, flowDict)\n",
    "    \n",
    "    mode34[:N] = magArr[i] * poly34\n",
    "    costArr[2,i] = linCost_lm(mode34, kx, kz, flowDict)\n",
    "    \n",
    "    modeRC[:N] = magArr[i] * randCoeff\n",
    "    costArr[3,i] = linCost_lm(modeRC, kx, kz, flowDict)\n",
    "    \n",
    "    modeRV[:N] = magArr[i] * randVec\n",
    "    costArr[4,i] = linCost_lm(modeRV, kx, kz, flowDict)\n",
    "    \n",
    "plt.figure()\n",
    "plt.title(\"Error introduced to u\")\n",
    "plt.loglog(magArr, costArr[0], 'rx', label='poly15')\n",
    "plt.loglog(magArr, costArr[1], 'b+', label='poly32')\n",
    "plt.loglog(magArr, costArr[2], 'k*', label='poly34')\n",
    "plt.loglog(magArr, costArr[3], 'gv', label='randCoeff')\n",
    "plt.loglog(magArr, costArr[4], 'co', label='randVec')\n",
    "plt.loglog(magArr, kx*magArr, 'c--', label='$kx \\cdot mag$')\n",
    "plt.legend()\n",
    "plt.show()\n",
    "\n",
    "\n",
    "\n",
    "mode15 = np.zeros((4*N))\n",
    "mode32= np.zeros((4*N))\n",
    "mode34= np.zeros((4*N))\n",
    "modeRV = np.zeros((4*N))\n",
    "modeRC = np.zeros((4*N))\n",
    "\n",
    "costArr = np.zeros((5,magArr.size))\n",
    "for i in range(magArr.size):\n",
    "    mode15[N:2*N]  = magArr[i] * poly15\n",
    "    costArr[0,i] = linCost_lm(mode15, kx, kz, flowDict)\n",
    "    \n",
    "    mode32[N:2*N] = magArr[i] * poly32\n",
    "    costArr[1,i] = linCost_lm(mode32, kx, kz, flowDict)\n",
    "    \n",
    "    mode34[N:2*N] = magArr[i] * poly34\n",
    "    costArr[2,i] = linCost_lm(mode34, kx, kz, flowDict)\n",
    "    \n",
    "    modeRC[N:2*N] = magArr[i] * randCoeff\n",
    "    costArr[3,i] = linCost_lm(modeRC, kx, kz, flowDict)\n",
    "    \n",
    "    modeRV[N:2*N] = magArr[i] * randVec\n",
    "    costArr[4,i] = linCost_lm(modeRV, kx, kz, flowDict)\n",
    "    \n",
    "plt.figure()\n",
    "plt.title(\"Error introduced to v\")\n",
    "plt.loglog(magArr, costArr[0], 'rx', label='poly15')\n",
    "plt.loglog(magArr, costArr[1], 'b+', label='poly32')\n",
    "plt.loglog(magArr, costArr[2], 'k*', label='poly34')\n",
    "plt.loglog(magArr, costArr[3], 'gv', label='randCoeff')\n",
    "plt.loglog(magArr, costArr[4], 'co', label='randVec')\n",
    "plt.loglog(magArr, magArr, 'c--', label='mag')\n",
    "plt.legend()\n",
    "plt.show()\n",
    "\n",
    "plt.figure()\n",
    "plt.title(\"Error introduced to v, magnitude of v_y on x\")\n",
    "plt.loglog(der15*magArr, costArr[0], 'rx', label='poly15')\n",
    "plt.loglog(der32*magArr, costArr[1], 'b+', label='poly32')\n",
    "plt.loglog(der34*magArr, costArr[2], 'k*', label='poly34')\n",
    "plt.loglog(derRC*magArr, costArr[3], 'gv', label='randCoeff')\n",
    "plt.loglog(derRV*magArr, costArr[4], 'co', label='randVec')\n",
    "plt.loglog(magArr, magArr, 'c--', label='mag')\n",
    "plt.legend()\n",
    "plt.show()\n",
    "\n",
    "\n",
    "\n",
    "\n",
    "\n",
    "mode15 = np.zeros((4*N))\n",
    "mode32= np.zeros((4*N))\n",
    "mode34= np.zeros((4*N))\n",
    "modeRV = np.zeros((4*N))\n",
    "modeRC = np.zeros((4*N))\n",
    "costArr = np.zeros((5,magArr.size))\n",
    "for i in range(magArr.size):\n",
    "    mode15[2*N:-N]  = magArr[i] * poly15\n",
    "    costArr[0,i] = linCost_lm(mode15, kx, kz, flowDict)\n",
    "    \n",
    "    mode32[2*N:-N] = magArr[i] * poly32\n",
    "    costArr[1,i] = linCost_lm(mode32, kx, kz, flowDict)\n",
    "    \n",
    "    mode34[2*N:-N] = magArr[i] * poly34\n",
    "    costArr[2,i] = linCost_lm(mode34, kx, kz, flowDict)\n",
    "    \n",
    "    modeRC[2*N:-N] = magArr[i] * randCoeff\n",
    "    costArr[3,i] = linCost_lm(modeRC, kx, kz, flowDict)\n",
    "    \n",
    "    modeRV[2*N:-N] = magArr[i] * randVec\n",
    "    costArr[4,i] = linCost_lm(modeRV, kx, kz, flowDict)\n",
    "    \n",
    "plt.figure()\n",
    "plt.title(\"Error introduced to w\")\n",
    "plt.loglog(magArr, costArr[0], 'rx', label='poly15')\n",
    "plt.loglog(magArr, costArr[1], 'b+', label='poly32')\n",
    "plt.loglog(magArr, costArr[2], 'k*', label='poly34')\n",
    "plt.loglog(magArr, costArr[3], 'gv', label='randCoeff')\n",
    "plt.loglog(magArr, costArr[4], 'co', label='randVec')\n",
    "plt.loglog(magArr, kz*magArr, 'c--', label='$k_z \\cdot mag$')\n",
    "plt.legend()\n",
    "plt.show()\n",
    "\n",
    "\n",
    "\n",
    "mode15 = np.zeros((4*N))\n",
    "mode32= np.zeros((4*N))\n",
    "mode34= np.zeros((4*N))\n",
    "modeRV = np.zeros((4*N))\n",
    "modeRC = np.zeros((4*N))\n",
    "costArr = np.zeros((5,magArr.size))\n",
    "for i in range(magArr.size):\n",
    "    mode15[-N:]  = magArr[i] * poly15\n",
    "    costArr[0,i] = linCost_lm(mode15, kx, kz, flowDict)\n",
    "    \n",
    "    mode32[-N:] = magArr[i] * poly32\n",
    "    costArr[1,i] = linCost_lm(mode32, kx, kz, flowDict)\n",
    "    \n",
    "    mode34[-N:] = magArr[i] * poly34\n",
    "    costArr[2,i] = linCost_lm(mode34, kx, kz, flowDict)\n",
    "    \n",
    "    modeRC[-N:] = magArr[i] * randCoeff\n",
    "    costArr[3,i] = linCost_lm(modeRC, kx, kz, flowDict)\n",
    "    \n",
    "    modeRV[-N:] = magArr[i] * randVec\n",
    "    costArr[4,i] = linCost_lm(modeRV, kx, kz, flowDict)\n",
    "    \n",
    "plt.figure()\n",
    "plt.title(\"Error introduced to p\")\n",
    "plt.loglog(magArr, costArr[0], 'rx', label='poly15')\n",
    "plt.loglog(magArr, costArr[1], 'b+', label='poly32')\n",
    "plt.loglog(magArr, costArr[2], 'k*', label='poly34')\n",
    "plt.loglog(magArr, costArr[3], 'gv', label='randCoeff')\n",
    "plt.loglog(magArr, costArr[4], 'co', label='randVec')\n",
    "plt.loglog(magArr, magArr, 'c--', label='mag')\n",
    "plt.legend()\n",
    "plt.show()\n",
    "\n",
    "\n",
    "\n",
    "\n"
   ]
  },
  {
   "cell_type": "markdown",
   "metadata": {},
   "source": [
    "# Non-linear terms\n",
    "\n",
    "Do inverse Fourier transform (discrete, manual), then multiply in physical space, then transform back to Fourier space. \n",
    "\n",
    "__There is much optimization to be done here. I will get to this once things start to work properly.__"
   ]
  },
  {
   "cell_type": "markdown",
   "metadata": {},
   "source": [
    "### Using numpy's FFT module\n",
    "\n",
    "Numpy's FFT is undoubtedly faster than my custom implementation. The definition is a bit different though. 1-d FFT, for instance, is defined like so\n",
    "$$ \\hat{a}_{k, numpy} = \\sum\\limits_{m=0}^{n=1} a_m e^{-2\\pi i \\frac{m}{n} }. $$\n",
    "I want a slightly different definition, illustrated below for 1d:\n",
    "$$ \\hat{a}_{k, custom} = \\frac{1}{n} \\sum\\limits_{m=0}^{n=1} a(x=\\frac{m}{n}L_x) e^{- i k \\alpha x},$$\n",
    "which can be simplified to\n",
    "$$ \\hat{a}_{k, custom} = \\frac{1}{n} \\sum\\limits_{m=0}^{n=1} a_m e^{- 2\\pi i \\frac{m}{n}}.$$\n",
    "So, \n",
    "$$ \\hat{a}_{k,custom} = \\frac{1}{n} \\hat{a}_{k,numpy} $$\n",
    "\n",
    "Similarly, numpy scales the sum in its ifft by $1/n$, while I don't want this scaling. Then\n",
    "$$ a_{m,custom} = n a_{m,numpy} $$"
   ]
  },
  {
   "cell_type": "code",
   "execution_count": 10,
   "metadata": {},
   "outputs": [],
   "source": [
    "#%load lib/eval.py\n",
    "from lib.eval import getQuadTerm, NSECostFun\n",
    "from lib.utils import _kxFun, _kzFun"
   ]
  },
  {
   "cell_type": "markdown",
   "metadata": {},
   "source": [
    "## Testing getN0123()"
   ]
  },
  {
   "cell_type": "code",
   "execution_count": 11,
   "metadata": {},
   "outputs": [],
   "source": [
    "# Initialize\n",
    "alpha = 0.5; beta = 2.; L = 8; M = 8\n",
    "N = 35\n",
    "y = pseudo.chebdif(N,1)[0]\n",
    "flowDict = {'Re':400., 'U':y, 'Uy':np.ones(y.shape),'y':y}\n",
    "\n",
    "kxArr = _kxFun(alpha, L)\n",
    "kzArr = _kzFun(beta, M)\n",
    "state0= np.zeros((kxArr.size, kzArr.size, 4, N),dtype=np.complex)"
   ]
  },
  {
   "cell_type": "markdown",
   "metadata": {},
   "source": [
    "### Zero vector"
   ]
  },
  {
   "cell_type": "code",
   "execution_count": 12,
   "metadata": {},
   "outputs": [
    {
     "name": "stdout",
     "output_type": "stream",
     "text": [
      "Cost for zero state:0.000000\n"
     ]
    },
    {
     "name": "stderr",
     "output_type": "stream",
     "text": [
      "F:\\UoS\\GCF\\lib\\utils.py:102: UserWarning: Calling chebdif 3...\n",
      "  warn(\"Calling chebdif 3...\")\n",
      "F:\\UoS\\GCF\\lib\\eval.py:79: UserWarning: Calling chebdif 1...\n",
      "  warn(\"Calling chebdif 1...\")\n"
     ]
    }
   ],
   "source": [
    "# Ensure zero state produces zero cost\n",
    "\n",
    "def NLCost(state, kxArr, kzArr):\n",
    "    return NSECostFun(state, kxArr, kzArr, flowDict, mode=2)\n",
    "print(\"Cost for zero state:%f\"%NLCost(state0, kxArr,kzArr) )"
   ]
  },
  {
   "cell_type": "markdown",
   "metadata": {},
   "source": [
    "### Low order polynomials\n"
   ]
  },
  {
   "cell_type": "markdown",
   "metadata": {},
   "source": [
    "\n",
    "#### $N^0$\n",
    "Set the coefficients\n",
    "$\\tilde{u}_{2,3} = 3y$, $\\tilde{v}_{2,3} = y^2 -1$, and $\\tilde{w}_{2,3} = iy^5$\n",
    "Here, we use $(l,m)$ to reference modes. The actual wavenumber are $(k_x,k_z)=(l\\alpha, m\\beta) = (1,6)$. Note that the above functions must be multiplied with $(1-y^2)$ to get the velocities.\n",
    "\n",
    "In the x-momentum equation for $(l,m) = (4,6)$.\n",
    "$$ N^0_{4,6} = u u_x + v u' + w u_z = ik_xu u + vu' + ik_zwu \\\\\n",
    "= i(1)(1-y^2)^2 (9y^2) + (1-y^2)(y^2-1)\\{-2y(3y)+(1-y^2)(3)\\} + i(6)(1-y^2)^2 (iy^5)(3y) \\\\\n",
    "= T_1 + T_2 + T_3 \\\\\n",
    "= i\\{9y^2-18y^4+9y^6\\}  + \\{-3+15y^2-21y^4 +9y^6\\} + \\{- 18y^6 +36y^8 -18y^{10}\\}  $$\n",
    "\n",
    "In the x-momentum equation for $(l,m) = (0,0)$, due to interaction of modes (-2,-3) and (2,3). The mode (-2,-3) need not be specified, as it's implicit from real-valuedness as complex conjugate of (2,3). Two combinations contribute to this, one where derivatives are from (l,m) and another with derivatives from (-l,-m):\n",
    "$$ N^0_{0,0} = \\{u_{(-l,-m)} u_{x,(l,m)} + v_{(-l,-m)} u'_{(l,m)} + w_{(-l,-m)} u_{z,(l,m)} \\}+\n",
    "\\{ u_{(l,m)} u_{x,(-l,-m)} + v_{(l,m)} u'_{(-l,-m)} + w_{(l,m)} u_{z,(-l,-m)} \\}$$\n",
    "Because $u$ and $v$ are real and $w$ is imaginary in our test case, \n",
    "$$ N^0_{0,0} = \\{T_1 + T_2 - T_3\\}  + \\{-T_1 + T_2 - T_3 \\} = 2(T_2 - T_3) $$\n",
    "\n",
    "-------------------------\n",
    "\n",
    "#### $N^1$\n",
    "$$ N^1_{4,6} = u v_x + v v' + w v_z = ik_xu v + vv' + ik_zwv \\\\\n",
    "   = i(1)(1-y^2)^2 (3y)(y^2-1) + (1-y^2)(y^2-1)\\{-2y(y^2-1)+(1-y^2)(2y)\\} + i(6)(1-y^2)^2 (iy^5)(y^2-1) \\\\\n",
    "   = T_4 + T_5 + T_6 \\\\\n",
    "   = \\{ i(-3y + 9y^3 -9y^5 +3y^7)  \\} + \\{-4y + 12y^3 - 12y^5 + 4y^7 \\} + \\{6y^5 - 18y^7 + 18y^9 - 6y^{11} \\} $$\n",
    "\n",
    "As before, \n",
    "$$ N^1_{0,0} =\\{ T_4 + T_5 - T_6\\} + \\{ -T_4 + T_5 - T_6 \\} = 2(T_5 - T_6) $$\n",
    "\n",
    "\n",
    "---------------------------\n",
    "#### $N^2$\n",
    "\n",
    "$$ N^2_{4,6} = u w_x + v w' + w w_z = ik_xu w + vw' + ik_zww \\\\\n",
    "   = i(1)(1-y^2)^2 (3y)(iy^5) + (1-y^2)(y^2-1)\\{-2y(iy^5)+(1-y^2)(5iy^4)\\} + i(6)(1-y^2)^2 (iy^5)^2 \\\\\n",
    "   = T_7 + T_8 + T_9 \\\\\n",
    "   = \\{ -3(y^6-2y^8+y^{10}) \\} + \\{ i(-5y^4+17y^6-19y^8 + 7y^{10} )\\} + \\{-6i( y^{10}-2y^{12}+y^{14} ) \\} $$\n",
    "   \n",
    "$$ N^2_{0,0} =\\{ T_7 + T_8 - T_9 \\} + \\{T_7 - T_8 + T_9 \\} = 2T_7  $$\n",
    "   \n"
   ]
  },
  {
   "cell_type": "code",
   "execution_count": 13,
   "metadata": {},
   "outputs": [
    {
     "name": "stdout",
     "output_type": "stream",
     "text": [
      "Did elements of N0_{4,6} match the analytical function? True\n",
      "Did elements of N0_{0,0} match the analytical function? True\n",
      "Norm of other elements of N0 should be close to zero: 7.27e-16\n",
      "\n",
      "Did elements of N1_{4,6} match the analytical function? True\n",
      "Did elements of N1_{0,0} match the analytical function? True\n",
      "Difference for (4,6) real: 1.9273695418364067e-15\n",
      "Difference for (0,0) real: 3.84481594243656e-15\n",
      "Difference for (4,6) imag: 4.682253505862429e-16\n",
      "Difference for (0,0) imag: 0.0\n",
      "Norm of other elements of N1 should be close to zero: 2.29e-16\n",
      "\n",
      "Did elements of N2_{4,6} match the analytical function? True\n",
      "Did elements of N2_{0,0} match the analytical function? True\n",
      "Difference for (4,6) real: 8.903779772082685e-17\n",
      "Difference for (0,0) real: 1.786093367619552e-16\n",
      "Difference for (4,6) imag: 7.523615159173843e-16\n",
      "Difference for (0,0) imag: 0.0\n",
      "Norm of other elements of N2 should be close to zero: 1.54e-17\n",
      "\n",
      "Norm of all elements of N3 should be zero: 0\n"
     ]
    },
    {
     "name": "stderr",
     "output_type": "stream",
     "text": [
      "F:\\UoS\\GCF\\lib\\eval.py:79: UserWarning: Calling chebdif 1...\n",
      "  warn(\"Calling chebdif 1...\")\n",
      "F:\\UoS\\GCF\\lib\\utils.py:102: UserWarning: Calling chebdif 3...\n",
      "  warn(\"Calling chebdif 3...\")\n",
      "F:\\UoS\\GCF\\lib\\eval.py:114: UserWarning: Calculating derivs in getQuadTerm.\n",
      "  warn(\"Calculating derivs in getQuadTerm.\")\n"
     ]
    }
   ],
   "source": [
    "qnormLong = lambda arr: qnorm(arr,N=N)\n",
    "state_23 = np.copy(state0) #Pump energy into (l,m)=(2,3)\n",
    "# This should produce, in the NL term, energy in (l,m)=(2,6) and (l,m)=(0,0) only, the rest being zero.\n",
    "poly1 = 3.*y\n",
    "poly2 = y**2 - 1.\n",
    "poly5 = 1.j*y**5 \n",
    "state_23[2,3,0] = poly1\n",
    "state_23[2,3,1] = poly2\n",
    "state_23[2,3,2] = poly5\n",
    "state_23[2,3,3] = np.random.randn(N)   # Pressure values should not affect non linear term\n",
    "\n",
    "NL =  getQuadTerm(state_23,kxArr, kzArr,padding=False)\n",
    "\n",
    "# N0\n",
    "#=================================\n",
    "N0_46 = NL[4,6,0]\n",
    "N0_00 = NL[0,0,0]\n",
    "\n",
    "T1 = 1.j*(9.*y**2 - 18.*y**4 + 9.*y**6)\n",
    "T2 = (-3.+15.*y**2 - 21.*y**4 + 9.*y**6)\n",
    "T3 = (- 18.*y**6 + 36.*y**8 - 18.*y**10) \n",
    "N0_46_calc =   T1 + T2 + T3\n",
    "N0_00_calc =  2.*(T2-T3)\n",
    "\n",
    "print(\"Did elements of N0_{4,6} match the analytical function?\",np.allclose(N0_46.real, N0_46_calc.real) \n",
    "      and np.allclose(N0_46.imag,N0_46_calc.imag) )\n",
    "print(\"Did elements of N0_{0,0} match the analytical function?\",np.allclose(N0_00.imag, N0_00_calc.imag) \n",
    "      and np.allclose(N0_00.real,N0_00_calc.real) )\n",
    "\n",
    "N0_tmp = np.copy(NL[:,:,0])\n",
    "N0_tmp[4,6] = 0.\n",
    "N0_tmp[0,0] = 0.\n",
    "\n",
    "print(\"Norm of other elements of N0 should be close to zero: %.3g\"% (qnormLong(N0_tmp)) )\n",
    "\n",
    "\n",
    "# N1\n",
    "#=================================\n",
    "N1_46 = NL[4,6,1]\n",
    "N1_00 = NL[0,0,1]\n",
    "\n",
    "T4 =  1.j*(-3.*y + 9.*y**3 -9.*y**5 +3.*y**7)  \n",
    "T5 = -4.*y + 12.*y**3 - 12.*y**5 + 4.*y**7 \n",
    "T6 = 6.*y**5 - 18.*y**7 + 18.*y**9 - 6.*y**11\n",
    "\n",
    "N1_46_calc =   T4 + T5 + T6\n",
    "N1_00_calc =  2.*(T5-T6)\n",
    "\n",
    "print()\n",
    "print(\"Did elements of N1_{4,6} match the analytical function?\",np.allclose(N1_46, N1_46_calc) )\n",
    "print(\"Did elements of N1_{0,0} match the analytical function?\",np.allclose(N1_00, N1_00_calc) )\n",
    "print(\"Difference for (4,6) real:\", qnormLong(N1_46.real-N1_46_calc.real))\n",
    "print(\"Difference for (0,0) real:\", qnormLong(N1_00.real-N1_00_calc.real))\n",
    "print(\"Difference for (4,6) imag:\", qnormLong(N1_46.imag-N1_46_calc.imag))\n",
    "print(\"Difference for (0,0) imag:\", qnormLong(N1_00.imag-N1_00_calc.imag))\n",
    "\n",
    "N1_tmp = np.copy(NL[:,:,1])\n",
    "N1_tmp[4,6] = 0.\n",
    "N1_tmp[0,0] = 0.\n",
    "\n",
    "print(\"Norm of other elements of N1 should be close to zero: %.3g\"% (qnormLong(N1_tmp)) )\n",
    "\n",
    "# N2\n",
    "#===================================\n",
    "N2_46 = NL[4,6,2]\n",
    "N2_00 = NL[0,0,2]\n",
    "\n",
    "T7 = -3.* (y**6 - 2.*y**8 + y**10)\n",
    "T8 = 1.j* (-5.*y**4 + 17.*y**6 - 19.*y**8 + 7.*y**10 )\n",
    "T9 = -6.j*(y**10 - 2.*y**12 + y**14 ) \n",
    "    \n",
    "    \n",
    "N2_46_calc =   T7 + T8 + T9\n",
    "N2_00_calc =  2.*T7\n",
    "\n",
    "print()\n",
    "print(\"Did elements of N2_{4,6} match the analytical function?\",np.allclose(N2_46, N2_46_calc) )\n",
    "print(\"Did elements of N2_{0,0} match the analytical function?\",np.allclose(N2_00, N2_00_calc) )\n",
    "print(\"Difference for (4,6) real:\", qnormLong(N2_46.real-N2_46_calc.real))\n",
    "print(\"Difference for (0,0) real:\", qnormLong(N2_00.real-N2_00_calc.real))\n",
    "print(\"Difference for (4,6) imag:\", qnormLong(N2_46.imag-N2_46_calc.imag))\n",
    "print(\"Difference for (0,0) imag:\", qnormLong(N2_00.imag-N2_00_calc.imag))\n",
    "\n",
    "N2_tmp = np.copy(NL[:,:,2])\n",
    "N2_tmp[4,6] = 0.\n",
    "N2_tmp[0,0] = 0.\n",
    "\n",
    "print(\"Norm of other elements of N2 should be close to zero: %.3g\"% (qnormLong(N2_tmp)) )\n",
    "\n",
    "print()\n",
    "print(\"Norm of all elements of N3 should be zero: %.3g\"%qnormLong(NL[:,:,3]))\n",
    "\n"
   ]
  },
  {
   "cell_type": "markdown",
   "metadata": {},
   "source": [
    "## Wall-normal aliasing\n",
    "\n",
    "The idea is simple: Use three error functions to introduce energy to some low wavenumber mode (worry about Fourier aliasing later). \n",
    " \n",
    "Use a polynomial of order 15, a polynomial of order 32, and a random vector. \n",
    "\n",
    "Plot cost versus energy of error introduced. "
   ]
  },
  {
   "cell_type": "code",
   "execution_count": 14,
   "metadata": {},
   "outputs": [
    {
     "name": "stderr",
     "output_type": "stream",
     "text": [
      "F:\\UoS\\GCF\\lib\\utils.py:102: UserWarning: Calling chebdif 3...\n",
      "  warn(\"Calling chebdif 3...\")\n",
      "F:\\UoS\\GCF\\lib\\eval.py:79: UserWarning: Calling chebdif 1...\n",
      "  warn(\"Calling chebdif 1...\")\n"
     ]
    },
    {
     "data": {
      "image/png": "[encoded data removed]",
      "text/plain": [
       "<Figure size 432x288 with 1 Axes>"
      ]
     },
     "metadata": {
      "needs_background": "light"
     },
     "output_type": "display_data"
    }
   ],
   "source": [
    "poly15 = -y + y**7 - y**11 + 2.*y**15\n",
    "poly32 = -y + y**9 - y**16 + 2.*y**32\n",
    "randVec = np.random.randn(N)\n",
    "\n",
    "p15u = -y**6 + poly15; p15v = y**4 - 2.*poly15; p15w = y**8 + poly15\n",
    "p32u = -y**6 + poly32; p32v = y**4 - 2.*poly32; p32w = y**8 + poly32\n",
    "randu = -y**6 + randVec; randv = y**4 - 2.*randVec; randw = y**8 + randVec\n",
    "\n",
    "Cu = 1. -2.5j; Cv = -2.+5.j; Cw = 3 + 1.j\n",
    "\n",
    "p15u = Cu*p15u/qnorm(p15u); p15v = Cv*p15v/qnorm(p15v); p15w = Cw*p15w/qnorm(p15w); \n",
    "p32u = Cu*p32u/qnorm(p32u); p32v = Cv*p32v/qnorm(p32v); p32w = Cw*p32w/qnorm(p32w); \n",
    "randu = Cu*randu/qnorm(randu); randv = Cv*randv/qnorm(randv); randw = Cw*randw/qnorm(randw); \n",
    "\n",
    "p15 = np.concatenate((p15u, p15v, p15w, np.zeros(N))).reshape((4,N))\n",
    "p32 = np.concatenate((p32u, p32v, p32w, np.zeros(N))).reshape((4,N))\n",
    "randVec = np.concatenate((randu, randv, randw, np.zeros(N))).reshape((4,N))\n",
    "\n",
    "\n",
    "alpha = 0.5; beta =2.; L = 8; M=8\n",
    "kxArr = _kxFun(alpha, L)\n",
    "kzArr = _kzFun(beta, M)\n",
    "\n",
    "state0 = np.zeros((2*L, M+1, 4, N), dtype=np.complex)\n",
    "magArr = 10**np.arange(-10., -1.1)\n",
    "\n",
    "state15 = np.zeros((state0.shape), dtype=np.complex)\n",
    "state32 = np.zeros((state0.shape), dtype=np.complex)\n",
    "stateRV = np.zeros((state0.shape), dtype=np.complex)\n",
    "\n",
    "ix = 3; iz = 1 # Introduce energy to these modes\n",
    "costArr = np.zeros((3,magArr.size))\n",
    "for i in range(magArr.size):\n",
    "    state15[ix,iz]  = magArr[i] * p15\n",
    "    costArr[0,i] = NLCost(state15, kxArr, kzArr)\n",
    "    \n",
    "    state32[ix,iz]  = magArr[i] * p32\n",
    "    costArr[1,i] = NLCost(state32, kxArr, kzArr)\n",
    "    \n",
    "    stateRV[ix,iz]  = magArr[i] * randVec\n",
    "    costArr[2,i] = NLCost(stateRV, kxArr, kzArr)\n",
    "    \n",
    "    \n",
    "plt.figure()\n",
    "plt.title(\"Error introduced to mode (l,m)=(%d,%d)\"%(ix,iz))\n",
    "plt.loglog(magArr, costArr[0], 'rx', label='poly15')\n",
    "plt.loglog(magArr, costArr[1], 'b+', label='poly32')\n",
    "plt.loglog(magArr, costArr[2], 'k*', label='randVec')\n",
    "plt.loglog(magArr, 9.*magArr**2, 'c--', label='9$mag^2$')\n",
    "plt.legend()\n",
    "plt.show()\n"
   ]
  },
  {
   "cell_type": "markdown",
   "metadata": {},
   "source": [
    "__Looks okay to me.__\n",
    "\n",
    "### Fourier aliasing\n",
    "\n",
    "__Similar to above. Use the random vector at 3 or 4 different amplitudes, and then change the Fourier wavenumbers at which error is introduced.___"
   ]
  },
  {
   "cell_type": "code",
   "execution_count": 15,
   "metadata": {
    "scrolled": true
   },
   "outputs": [
    {
     "name": "stdout",
     "output_type": "stream",
     "text": [
      "ix: 0\n",
      "iz: 0\n",
      "iz: 1\n",
      "iz: 2\n",
      "iz: 3\n"
     ]
    },
    {
     "name": "stderr",
     "output_type": "stream",
     "text": [
      "F:\\UoS\\GCF\\lib\\eval.py:79: UserWarning: Calling chebdif 1...\n",
      "  warn(\"Calling chebdif 1...\")\n",
      "F:\\UoS\\GCF\\lib\\utils.py:102: UserWarning: Calling chebdif 3...\n",
      "  warn(\"Calling chebdif 3...\")\n",
      "F:\\UoS\\GCF\\lib\\eval.py:114: UserWarning: Calculating derivs in getQuadTerm.\n",
      "  warn(\"Calculating derivs in getQuadTerm.\")\n"
     ]
    },
    {
     "name": "stdout",
     "output_type": "stream",
     "text": [
      "iz: 4\n",
      "iz: 5\n",
      "iz: 6\n",
      "iz: 7\n",
      "ix: 4\n",
      "iz: 0\n",
      "iz: 1\n",
      "iz: 2\n",
      "iz: 3\n",
      "iz: 4\n",
      "iz: 5\n",
      "iz: 6\n",
      "iz: 7\n",
      "ix: 8\n",
      "iz: 0\n",
      "iz: 1\n",
      "iz: 2\n",
      "iz: 3\n",
      "iz: 4\n",
      "iz: 5\n",
      "iz: 6\n",
      "iz: 7\n",
      "ix: 11\n",
      "iz: 0\n",
      "iz: 1\n",
      "iz: 2\n",
      "iz: 3\n",
      "iz: 4\n",
      "iz: 5\n",
      "iz: 6\n",
      "iz: 7\n",
      "========================\n",
      "\n",
      "ix: 0\n",
      "iz: 0\n",
      "iz: 1\n",
      "iz: 2\n",
      "iz: 3\n",
      "iz: 4\n",
      "iz: 5\n",
      "iz: 6\n",
      "iz: 7\n",
      "ix: 4\n",
      "iz: 0\n",
      "iz: 1\n",
      "iz: 2\n",
      "iz: 3\n",
      "iz: 4\n",
      "iz: 5\n",
      "iz: 6\n",
      "iz: 7\n",
      "ix: 8\n",
      "iz: 0\n",
      "iz: 1\n",
      "iz: 2\n",
      "iz: 3\n",
      "iz: 4\n",
      "iz: 5\n",
      "iz: 6\n",
      "iz: 7\n",
      "ix: 11\n",
      "iz: 0\n",
      "iz: 1\n",
      "iz: 2\n",
      "iz: 3\n",
      "iz: 4\n",
      "iz: 5\n",
      "iz: 6\n",
      "iz: 7\n",
      "========================\n",
      "\n"
     ]
    }
   ],
   "source": [
    "qnormLong_N = qnorm\n",
    "randVec = np.random.randn(3*N) + 1.j*np.random.randn(3*N)\n",
    "mode0 = np.zeros((4,N), dtype=np.complex)\n",
    "mode0[:3] = randVec.reshape((3,N))/qnormLong(randVec)\n",
    "\n",
    "alpha = 0.5; beta =2.; L = 12; M=7\n",
    "kxArr = _kxFun(alpha, L)\n",
    "kzArr = _kzFun(beta, M)\n",
    "\n",
    "magList = np.array([1.e-4,  5.e-2])\n",
    "ixList = np.array([0, 4, 8, 11])\n",
    "\n",
    "costArrNoPad = np.zeros((magList.size,2,ixList.size, kzArr.size))\n",
    "costArrWithPad = np.zeros((magList.size,2,ixList.size, kzArr.size))\n",
    "for iw in range(magList.size):\n",
    "    mag = magList[iw]\n",
    "    ind = 0\n",
    "    for ix in ixList:\n",
    "        print(\"ix:\",ix)\n",
    "        for iz in range(kzArr.size):\n",
    "            print(\"iz:\",iz)\n",
    "            state = np.zeros((2*L, M+1, 4, N), dtype=np.complex)\n",
    "            state[ix,iz] = mag * mode0\n",
    "            NLNoPad = getQuadTerm(state, kxArr, kzArr, padding=False)\n",
    "            NLWithPad = getQuadTerm(state, kxArr, kzArr, padding=True)\n",
    "            \n",
    "            costArrNoPad[iw,0, ind, iz] = qnormLong_N(NLNoPad[0,0], state.shape[-1])\n",
    "            NLNoPad[0,0] = 0.\n",
    "            costArrNoPad[iw,1, ind, iz] = qnormLong_N(NLNoPad, state.shape[-1])\n",
    "            \n",
    "            costArrWithPad[iw,0, ind, iz] = qnormLong_N(NLWithPad[0,0], state.shape[-1])\n",
    "            NLWithPad[0,0] = 0.\n",
    "            costArrWithPad[iw,1, ind, iz] = qnormLong_N(NLWithPad, state.shape[-1])\n",
    "            \n",
    "        ind+=1\n",
    "    print(\"========================\")\n",
    "    print()"
   ]
  },
  {
   "cell_type": "code",
   "execution_count": 16,
   "metadata": {},
   "outputs": [
    {
     "data": {
      "image/png": "[encoded data removed]",
      "text/plain": [
       "<Figure size 432x288 with 1 Axes>"
      ]
     },
     "metadata": {
      "needs_background": "light"
     },
     "output_type": "display_data"
    },
    {
     "data": {
      "image/png": "[encoded data removed]",
      "text/plain": [
       "<Figure size 432x288 with 1 Axes>"
      ]
     },
     "metadata": {
      "needs_background": "light"
     },
     "output_type": "display_data"
    },
    {
     "data": {
      "image/png": "[encoded data removed]",
      "text/plain": [
       "<Figure size 432x288 with 1 Axes>"
      ]
     },
     "metadata": {
      "needs_background": "light"
     },
     "output_type": "display_data"
    },
    {
     "data": {
      "image/png": "[encoded data removed]",
      "text/plain": [
       "<Figure size 432x288 with 1 Axes>"
      ]
     },
     "metadata": {
      "needs_background": "light"
     },
     "output_type": "display_data"
    }
   ],
   "source": [
    "clrArr = ['r','b','g','k']\n",
    "symArr = ['x','+', 'o','v']\n",
    "\n",
    "for ind in range(magList.size):\n",
    "    plt.figure()\n",
    "    plt.title(\"Error introduced in mode (0,0) with magnitude:%g\"%magList[ind])\n",
    "    for ix in range(ixList.size):\n",
    "        plt.semilogy(kzArr, costArrNoPad[ind,0,ix], '%s%s'%(clrArr[ix],symArr[ix]), label='l=%d'%ixList[ix])\n",
    "        plt.semilogy(kzArr, costArrWithPad[ind,0,ix], '%s--'%(clrArr[ix]), label='l=%d,padded'%ixList[ix])\n",
    "    plt.legend()\n",
    "    plt.show()\n",
    "\n",
    "for ind in range(magList.size):\n",
    "    plt.figure()\n",
    "    plt.title(\"Error introduced in mode (2L,2M) with magnitude:%g\"%magList[ind])\n",
    "    for ix in range(ixList.size):\n",
    "        plt.semilogy(kzArr, costArrNoPad[ind,1,ix], '%s%s'%(clrArr[ix],symArr[ix]), label='l=%d'%ixList[ix])\n",
    "        plt.semilogy(kzArr, costArrWithPad[ind,1,ix], '%s--'%(clrArr[ix]), label='l=%d,padded'%ixList[ix])\n",
    "    plt.legend()\n",
    "    plt.show()\n",
    "    \n",
    "\n"
   ]
  },
  {
   "cell_type": "markdown",
   "metadata": {},
   "source": [
    "Error in the (0,0) mode isn't dependent on padding, which is reasonable. There's one outlier though -  when error is introduced to $(0,M)$. This case shows larger error when not padded. I'm not completely sure if there is something physical here, or if it's an artefact of my custom implementation of FT. I will worry about this only if it doesn't go away when used with FFT. \n",
    "\n",
    "\n",
    "Error in the other modes (excluding (0,0)) changes when modes are padded. When padded, the error goes to zero for $k_z>6$, which should happen because the wavenumber $2k_z$ exceeds the ones captured in the NL term. When not padded, though, the error still remains. This should be an aliasing issue. The near-zero error for error introduced in $(0,0)$ is because I've already dropped this term from NL. \n"
   ]
  },
  {
   "cell_type": "markdown",
   "metadata": {},
   "source": [
    "## Timing NL cost with fft"
   ]
  },
  {
   "cell_type": "code",
   "execution_count": null,
   "metadata": {},
   "outputs": [
    {
     "name": "stdout",
     "output_type": "stream",
     "text": [
      "Timing with L=8, M=8, N=35\n"
     ]
    },
    {
     "name": "stderr",
     "output_type": "stream",
     "text": [
      "F:\\UoS\\GCF\\lib\\utils.py:102: UserWarning: Calling chebdif 3...\n",
      "  warn(\"Calling chebdif 3...\")\n",
      "F:\\UoS\\GCF\\lib\\eval.py:79: UserWarning: Calling chebdif 1...\n",
      "  warn(\"Calling chebdif 1...\")\n"
     ]
    }
   ],
   "source": [
    "# Initialize\n",
    "alpha = 0.5; beta = 2.; L = 8; M = 8\n",
    "kxArr = _kxFun(alpha, L)\n",
    "kzArr = _kzFun(beta, M)\n",
    "state= 1.e-4*(  np.random.randn(kxArr.size, kzArr.size, 4, N) + \n",
    "               1.j*np.random.randn(kxArr.size, kzArr.size, 4, N)  )\n",
    "\n",
    "print(\"Timing with L=%d, M=%d, N=35\"%(L,M))\n",
    "%timeit NLCost(state, kxArr, kzArr)\n",
    "print(); print()\n",
    "\n",
    "alpha = 0.5; beta = 2.; L = 16; M = 16\n",
    "kxArr = _kxFun(alpha, L)\n",
    "kzArr = _kzFun(beta, M)\n",
    "state= 1.e-4*(  np.random.randn(kxArr.size, kzArr.size, 4, N) + \n",
    "               1.j*np.random.randn(kxArr.size, kzArr.size, 4, N)  )\n",
    "\n",
    "print(\"Timing with L=%d, M=%d, N=35\"%(L,M))\n",
    "%timeit NLCost(state, kxArr, kzArr)\n",
    "print(); print()\n",
    "\n",
    "alpha = 0.5; beta = 2.; L = 24; M = 24\n",
    "kxArr = _kxFun(alpha, L)\n",
    "kzArr = _kzFun(beta, M)\n",
    "state= 1.e-4*(  np.random.randn(kxArr.size, kzArr.size, 4, N) + \n",
    "               1.j*np.random.randn(kxArr.size, kzArr.size, 4, N)  )\n",
    "\n",
    "print(\"Timing with L=%d, M=%d, N=35\"%(L,M))\n",
    "%timeit NLCost(state, kxArr, kzArr)\n",
    "print(); print()\n",
    "\n",
    "\n",
    "alpha = 0.5; beta = 2.; L = 32; M = 32\n",
    "kxArr = _kxFun(alpha, L)\n",
    "kzArr = _kzFun(beta, M)\n",
    "state= 1.e-4*(  np.random.randn(kxArr.size, kzArr.size, 4, N) + \n",
    "               1.j*np.random.randn(kxArr.size, kzArr.size, 4, N)  )\n",
    "\n",
    "print(\"Timing with L=%d, M=%d, N=35\"%(L,M))\n",
    "%timeit NLCost(state, kxArr, kzArr)\n",
    "print(); print()"
   ]
  },
  {
   "cell_type": "markdown",
   "metadata": {},
   "source": [
    "__Looks very promising. Let's put together the linear and non-linear parts and see where we are.__\n",
    "\n",
    "# NSECostFun"
   ]
  },
  {
   "cell_type": "code",
   "execution_count": null,
   "metadata": {},
   "outputs": [],
   "source": [
    "#%load lib/eval.py\n",
    "from lib.eval import NSECostFun\n",
    "from lib.utils import _kxFun, _kzFun"
   ]
  },
  {
   "cell_type": "code",
   "execution_count": null,
   "metadata": {},
   "outputs": [],
   "source": [
    "# Initialize\n",
    "alpha = 0.5; beta = 2.\n",
    "Llist = np.array([8, 16, 24, 32, 56])\n",
    "Mlist = Llist\n",
    "N = 40\n",
    "y, DM = pseudo.chebdif(N,2)\n",
    "D1 = np.ascontiguousarray(DM[:,:,0])\n",
    "D2 = np.ascontiguousarray(DM[:,:,1])\n",
    "Re = 400.\n",
    "U = y; Uy = np.ones(y.size)\n",
    "\n",
    "flowDict = {'y':y, 'Re':Re, 'U':U, 'Uy':Uy, 'D1':D1, 'D2':D2, 'N':N}\n",
    "for i in range(4,5):\n",
    "    L = Llist[i]; M = Mlist[i]\n",
    "    kxArr = _kxFun(alpha, L)\n",
    "    kzArr = _kzFun(beta, M)\n",
    "    state= 1.e-4*(  np.random.randn(kxArr.size, kzArr.size, 4, N) + \n",
    "                   1.j*np.random.randn(kxArr.size, kzArr.size, 4, N)  )\n",
    "\n",
    "    print(\"Timing NSECostFun with L=%d, M=%d, N=35\"%(L,M))\n",
    "    %prun -s cumulative NSECostFun(state, kxArr, kzArr, flowDict, padding=False)\n",
    "    #print(\"Just the linear array:\")\n",
    "    #%timeit getL0123(state, kxArr, kzArr, flowDict)\n",
    "    print(); print()\n"
   ]
  },
  {
   "cell_type": "code",
   "execution_count": 106,
   "metadata": {},
   "outputs": [
    {
     "name": "stdout",
     "output_type": "stream",
     "text": [
      " "
     ]
    }
   ],
   "source": [
    "from lib.utils import calcDerivatives\n",
    "%prun calcDerivatives(state, kxArr, kzArr, flowDict=flowDict)"
   ]
  },
  {
   "cell_type": "markdown",
   "metadata": {},
   "source": [
    "__Looks pretty good. 3s for $(56,56,35)$ isn't bad.__\n",
    "\n",
    "## Up next\n",
    "1. Iterate for laminar solution but now with more modes included\n",
    "2. Check accuracy for, and iterate for, PCoF equilibria"
   ]
  },
  {
   "cell_type": "markdown",
   "metadata": {},
   "source": [
    "This is not looking good. The iterations are taking too long even for a very low resolution case. I guess that is the cost I have to pay for matrix free methods. \n",
    "\n",
    "All hope is not lost though. There are still things that can be improved. \n",
    "\n",
    "I'll postpone comparison of optimization functions and my derivation of gradients for now. Focus on reducing evaluation time. \n",
    "\n",
    "0. __Final test for the evaluator with PCoF equilibria.__\n",
    "1. __Profile the evaluator. See where things are taking long.__\n",
    "2. __Look into GPU programming. If I can get the function evaluation time down by a factor of 10, then it's all good. Two packages seem promising:__\n",
    "    * cuFFT for FFT.\n",
    "    * gnumpy for matrix operations.\n",
    "    \n",
    "### Before doing all that, get the functions (and tests?) into a .py file"
   ]
  },
  {
   "cell_type": "code",
   "execution_count": 17,
   "metadata": {},
   "outputs": [],
   "source": [
    "def tryChFlow(testField, yFun = None, disp=True, err_vel=0., err_p=0., zeta=1.):\n",
    "    fName = 'data/eq1.h5'\n",
    "    fName_pres = 'data/pres_eq1.h5'\n",
    "\n",
    "    \n",
    "    def getPhysFields(fName, fName_pres):\n",
    "        alpha = 1.14; beta = 2.5; Re = 400.\n",
    "\n",
    "        with h5py.File(fName,'r') as f:\n",
    "            vel = np.array(f['data']['u'])\n",
    "            x = np.array(f['geom']['x'])\n",
    "            y = np.array(f['geom']['y'])\n",
    "            z = np.array(f['geom']['z'])\n",
    "        with h5py.File(fName_pres,'r') as f:\n",
    "            p = np.array(f['data']['u'])\n",
    "        return vel, p, alpha, beta, Re\n",
    "\n",
    "\n",
    "    vel, p, alpha, beta, Re = getPhysFields(fName, fName_pres)\n",
    "\n",
    "\n",
    "    # vel is shape (3, nx, ny, nz)\n",
    "    # p is shape (1,(3/2)nx, ny, (3/2)nz); Padded with L/2 and M/2 modes\n",
    "    if disp:\n",
    "        print(\"Loaded physical fields from channel flow. Velocity fields and pressure field are of shape:\")\n",
    "        print(vel.shape, p.shape)\n",
    "\n",
    "    # First, reshaping vel to (3,x,z,y) from (3, x,y,z); call this velT\n",
    "    # Similarly for p\n",
    "    nx = vel.shape[1]; ny = vel.shape[2]; nz = vel.shape[3]\n",
    "    nxp = p.shape[1]; nyp = p.shape[2]; nzp = p.shape[3]\n",
    "    y, DM = pseudo.chebdif(ny,2)\n",
    "    D1 = np.ascontiguousarray(DM[:,:,0]) \n",
    "    D2 = np.ascontiguousarray(DM[:,:,1])\n",
    "\n",
    "    # Test the later stuff a bit\n",
    "    if testField :\n",
    "        iField = 2\n",
    "        vel[:] = 0.\n",
    "        if yFun is None :\n",
    "            yFun = y\n",
    "        vel[iField] = (  yFun* (1.-y**2)   ).reshape((1,ny,1))\n",
    "        p[:] = 0.\n",
    "        if disp: print(\"Using testField for field %d using yFun:\"%iField, yFun)\n",
    "\n",
    "    velT = np.zeros((3,nx,nz,nyp), dtype=vel.dtype)\n",
    "    pT = np.zeros((1,nxp, nzp, nyp), dtype=p.dtype)\n",
    "    for k in range(nz):\n",
    "        velT[:,:,k] = vel[:,:,:,k].reshape((3,nx,ny))\n",
    "    for k in range(nzp):\n",
    "        pT[:,:,k]  = p[:,:,:,k].reshape((1,nxp,nyp))\n",
    "    if disp: print(\"Shapes of physical fields, velT and pT:\", velT.shape, pT.shape )\n",
    "\n",
    "    velT_BC = np.zeros(velT.shape)\n",
    "    diffDict = {'y':y, 'D1':D1, 'D2':D2,'N':y.size}\n",
    "    for iField in range(3):\n",
    "        for ix in range(velT.shape[1]):\n",
    "            for iz in range(velT.shape[2]):\n",
    "                velT_BC[iField, ix,iz] = u2utilde(velT[iField, ix, iz], diffDict=diffDict)\n",
    "\n",
    "\n",
    "\n",
    "    # Subtract U=y?\n",
    "    #velT[0] -= y.reshape((1,1,y.size))\n",
    "\n",
    "    # Now, convert physical fields to spectral fields. \n",
    "    # Remember, the physical fields are real valued.\n",
    "    velSpec = np.fft.rfft2( velT_BC, axes=(1,2) )/(nx*nz)\n",
    "    # Axis 1 is treated as usual, axis 2 is shortened to nz//2 + 1 because of real-valuedness\n",
    "    # The division by (nx*nz) is to make numpy's fft scale to the one we need\n",
    "    pSpecPadded = np.fft.rfft2( pT, axes=(1,2) )/(nx*nz)\n",
    "    # Numpy orders Fourier wavenumbers for first FFT axis as \n",
    "    #       (0,1,2,..,L-1, +- L , -L+1, -L+2,..., -2, -1), L = nx//2 for even nx\n",
    "    # The +- L is the Nyquist frequency and its coefficients are real. \n",
    "    # For the second FFT axis, the realvaluedness is applied to produce wavenumbers ordered\n",
    "    #       (0,1,2,..., M), M = nz//2 for even nz\n",
    "\n",
    "    # Drop pressure Fourier modes to make resolution consistent with velocity. \n",
    "    L = nx//2; M = nz//2\n",
    "    pSpec = np.zeros((1, 2*L, M+1, ny), dtype=pSpecPadded.dtype)\n",
    "    pSpec[0,:L , :M+1] = pSpecPadded[0,:L , :M+1]   \n",
    "    pSpec[0,-L:, :M+1] = pSpecPadded[0,-L:, :M+1]\n",
    "    # Now pSpec has shape consistent with velSpec\n",
    "    \n",
    "    # Add some random error to velocity and pressure fields:\n",
    "    if err_vel > 0.:\n",
    "        randVec = np.random.randn(*velSpec.shape) + 1.j*np.random.randn(*velSpec.shape)\n",
    "        \n",
    "        randVec = err_vel * randVec/np.sqrt(qnormLong_N(randVec,N)) * np.sqrt(qnormLong_N(velSpec,N))\n",
    "        if disp: print(\"Adding noise of norm %.3g to spectral velocity field...\"\n",
    "                       %qnormLong_N(randVec,N))\n",
    "        velSpec = velSpec + randVec\n",
    "        if disp: print(\"velSpec has norm\", qnormLong_N(velSpec,N))\n",
    "    if err_p > 0.:\n",
    "        randVec = np.random.randn(*pSpec.shape) + 1.j*np.random.randn(*pSpec.shape)\n",
    "        randVec = err_p * randVec/np.sqrt(qnormLong_N(randVec,N)) * np.sqrt(qnormLong_N(pSpec,N))\n",
    "        if disp: print(\"Adding noise of norm %.3g to spectral pressure field...\"\n",
    "                       %qnormLong_N(randVec,N))\n",
    "        pSpec = pSpec + randVec\n",
    "        if disp: print(\"pSpec has norm\", qnormLong_N(pSpec,N))\n",
    "    \n",
    "    vel_p = np.concatenate((velSpec, pSpec), axis = 0)\n",
    "    # We want to move the variable index (index that refers to variable; first index in this case)\n",
    "    #       to be the third index, so that first and second index reference a Fourier mode\n",
    "    vel_p_new = np.zeros((2*L, M+1, 4, ny), dtype=vel_p.dtype)\n",
    "    for ind in range(4):\n",
    "        vel_p_new[:,:,ind] = vel_p[ind]\n",
    "\n",
    "    state_BC = vel_p_new\n",
    "    \n",
    "    if disp:\n",
    "        print(\"Produced complex-valued state from channel flow solution. It's shape is\")\n",
    "        print(state_BC.shape)\n",
    "        print(\"It's cost is:\")\n",
    "        \n",
    "    kxArr = _kxFun(alpha, L)\n",
    "    kzArr = _kzFun(beta, M)\n",
    "    U = y; Uy = np.ones(y.size) \n",
    "    flowDict = {'N':N, 'y':y, 'Re':Re, 'U':U, 'Uy':Uy, 'D1':D1, 'D2':D2}\n",
    "    if testField:\n",
    "        state_BC[0,0,iField] -= yFun\n",
    "\n",
    "    cost = NSECostFun(state_BC, kxArr, kzArr, flowDict, padding=True, fft=True,zeta=zeta)\n",
    "    print(cost)\n",
    "    return cost\n"
   ]
  },
  {
   "cell_type": "code",
   "execution_count": 19,
   "metadata": {},
   "outputs": [
    {
     "name": "stdout",
     "output_type": "stream",
     "text": [
      "0.0006432527610230975\n",
      "0.2933471378191356\n",
      "1.1651329087401272\n",
      "2.600441777366554\n",
      "4.661094091420543\n",
      "7.343182136422502\n",
      "10.587636516093761\n",
      "14.340378571123637\n",
      "18.73471889989063\n",
      "24.21999406199566\n"
     ]
    },
    {
     "name": "stderr",
     "output_type": "stream",
     "text": [
      "No handles with labels found to put in legend.\n"
     ]
    },
    {
     "name": "stdout",
     "output_type": "stream",
     "text": [
      "30.480472416174045\n"
     ]
    },
    {
     "data": {
      "image/png": "[encoded data removed]",
      "text/plain": [
       "<Figure size 432x288 with 1 Axes>"
      ]
     },
     "metadata": {
      "needs_background": "light"
     },
     "output_type": "display_data"
    },
    {
     "name": "stdout",
     "output_type": "stream",
     "text": [
      "0.0006432527610230975\n",
      "0.030432024428269887\n",
      "0.12306594385442893\n",
      "0.28008391116251824\n",
      "0.5082109243293373\n",
      "0.8177895354567003\n",
      "1.2209489489841374\n",
      "1.728145204762979\n",
      "2.3478734141970614\n",
      "3.1110018125080785\n"
     ]
    },
    {
     "name": "stderr",
     "output_type": "stream",
     "text": [
      "No handles with labels found to put in legend.\n"
     ]
    },
    {
     "name": "stdout",
     "output_type": "stream",
     "text": [
      "4.015625116277735\n"
     ]
    },
    {
     "data": {
      "image/png": "[encoded data removed]",
      "text/plain": [
       "<Figure size 432x288 with 1 Axes>"
      ]
     },
     "metadata": {
      "needs_background": "light"
     },
     "output_type": "display_data"
    },
    {
     "name": "stdout",
     "output_type": "stream",
     "text": [
      "0.0006432527610230975\n",
      "0.0008700922947411343\n",
      "0.001570875869136798\n",
      "0.002741525984723399\n",
      "0.004339213475778411\n",
      "0.00637695110570092\n",
      "0.008865854303524549\n",
      "0.011729103451361083\n",
      "0.015295249274348492\n",
      "0.019084848734691726\n"
     ]
    },
    {
     "name": "stderr",
     "output_type": "stream",
     "text": [
      "No handles with labels found to put in legend.\n"
     ]
    },
    {
     "name": "stdout",
     "output_type": "stream",
     "text": [
      "0.02356851799897038\n"
     ]
    },
    {
     "data": {
      "image/png": "[encoded data removed]",
      "text/plain": [
       "<Figure size 432x288 with 1 Axes>"
      ]
     },
     "metadata": {
      "needs_background": "light"
     },
     "output_type": "display_data"
    }
   ],
   "source": [
    "disp = False\n",
    "yFun=None\n",
    "useFit = False\n",
    "errList = np.arange(0.,1.01,0.1)\n",
    "#errVelList = np.arange(1.,10.,1.)\n",
    "\n",
    "costList = []\n",
    "zeta = 1.\n",
    "for err in errList:\n",
    "    costList.append( tryChFlow(False, yFun=yFun, disp=disp,err_vel=err, zeta=zeta) )\n",
    "costArr = np.array(costList)\n",
    "if useFit:\n",
    "    fitFun = lambda arr: np.linalg.norm(costArr - arr[0] * errList**arr[1])\n",
    "    coeff =  minimize(fitFun, [0., 4.]).x \n",
    "    plt.plot(errList, coeff[0]*errList**coeff[1], 'r-.', label='%.3g err^%.3g'%(coeff[0],coeff[1]))\n",
    "    \n",
    "plt.title(\"Cost for noise added to velocity, including divergence penalty=%.1g\"%zeta)\n",
    "plt.plot(errList, costList,'rx')\n",
    "plt.legend()\n",
    "plt.xlabel(\"err_vel\"); plt.ylabel(\"cost\")\n",
    "plt.show()\n",
    "\n",
    "\n",
    "costList = []\n",
    "for err in errList:\n",
    "    costList.append( tryChFlow(False, yFun=yFun, disp=disp,err_vel=err, zeta=0.) )\n",
    "costArr = np.array(costList)\n",
    "if useFit:\n",
    "    fitFun = lambda arr: np.linalg.norm(costArr - arr[0] * errList**arr[1])\n",
    "    coeff =  minimize(fitFun, [0., 4.]).x \n",
    "    plt.plot(errList, coeff[0]*errList**coeff[1], 'r-.', label='%.3g err^%.3g'%(coeff[0],coeff[1]))\n",
    "    \n",
    "plt.plot(errList, costList,'rx')\n",
    "plt.title(\"Cost for noise added to velocity, excluding divergence (penalty=0)\")\n",
    "plt.legend()\n",
    "plt.xlabel(\"err_vel\"); plt.ylabel(\"cost\")\n",
    "plt.show()\n",
    "\n",
    "\n",
    "\n",
    "errList = np.arange(0.,1.01,0.1)\n",
    "#errVelList = np.arange(1.,10.,1.)\n",
    "costList = []\n",
    "for err in errList:\n",
    "    costList.append( tryChFlow(False, yFun=yFun, disp=disp,err_p=err) )\n",
    "costArr = np.array(costList)\n",
    "if useFit :\n",
    "    fitFun = lambda arr: np.linalg.norm(costArr - arr[0] * errList**arr[1])\n",
    "    coeff =  minimize(fitFun, [0., 4.]).x \n",
    "    plt.plot(errList, coeff[0]*errList**coeff[1], 'r-.', label='%.3g err^%.3g'%(coeff[0],coeff[1]))\n",
    "    \n",
    "plt.plot(errList, costList,'rx')\n",
    "plt.xlabel(\"err_P\"); plt.ylabel(\"cost\")\n",
    "plt.legend()\n",
    "plt.show()"
   ]
  },
  {
   "cell_type": "code",
   "execution_count": null,
   "metadata": {},
   "outputs": [],
   "source": []
  }
 ],
 "metadata": {
  "kernelspec": {
   "display_name": "Python 3",
   "language": "python",
   "name": "python3"
  },
  "language_info": {
   "codemirror_mode": {
    "name": "ipython",
    "version": 3
   },
   "file_extension": ".py",
   "mimetype": "text/x-python",
   "name": "python",
   "nbconvert_exporter": "python",
   "pygments_lexer": "ipython3",
   "version": "3.7.0"
  },
  "widgets": {
   "application/vnd.jupyter.widget-state+json": {
    "state": {},
    "version_major": 2,
    "version_minor": 0
   }
  }
 },
 "nbformat": 4,
 "nbformat_minor": 2
}
